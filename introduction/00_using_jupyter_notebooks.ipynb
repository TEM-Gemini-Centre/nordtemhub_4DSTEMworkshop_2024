{
 "cells": [
  {
   "cell_type": "markdown",
   "metadata": {},
   "source": [
    "# Using a Jupyter Notebook"
   ]
  },
  {
   "cell_type": "markdown",
   "metadata": {},
   "source": [
    "Lines with `In [ ]:` are code cells, which means the code in the line can be executed. This is done by clicking the line, and pressing Shift + Enter. This also moves the selection to the next line."
   ]
  },
  {
   "cell_type": "code",
   "execution_count": null,
   "metadata": {},
   "outputs": [],
   "source": [
    "import time\n",
    "time.sleep(1)"
   ]
  },
  {
   "cell_type": "markdown",
   "metadata": {},
   "source": [
    "The original `In [ ]:` changes firstly to `In [*]:` which means the line is being executed. And when the line has finished executed, it changes to `In [1]:`. The number refers to how many lines were executed before this one. Note this is not the line number in the notebook, but the input to the python interpreter. It is possible to execute lines in any order.\n",
    "\n",
    "It is also possible to navigate to different lines by using the up or down arrow keys."
   ]
  },
  {
   "cell_type": "markdown",
   "metadata": {},
   "source": [
    "## Tab completion"
   ]
  },
  {
   "cell_type": "markdown",
   "metadata": {},
   "source": [
    "A very useful feature is tab completion. Select the next line, go to the end of `time.s`, and press tab. This will bring up all the functions which start with `s`. Select `sleep`, write `time.sleep(1)` and execute the line using Ctrl + Enter"
   ]
  },
  {
   "cell_type": "code",
   "execution_count": null,
   "metadata": {},
   "outputs": [],
   "source": [
    "time.s"
   ]
  },
  {
   "cell_type": "markdown",
   "metadata": {},
   "source": [
    "## Docstrings"
   ]
  },
  {
   "cell_type": "markdown",
   "metadata": {},
   "source": [
    "Another important feature is docstrings, which is accessed by placing a question mark after any function or object. For example:"
   ]
  },
  {
   "cell_type": "code",
   "execution_count": null,
   "metadata": {},
   "outputs": [],
   "source": [
    "time.sleep?"
   ]
  },
  {
   "cell_type": "markdown",
   "metadata": {},
   "source": [
    "These docstrings (usually) contain a lot of useful information on how to use these functions, and is very useful as a quick lookup."
   ]
  },
  {
   "cell_type": "markdown",
   "metadata": {},
   "source": [
    "These can also be seen by Shift+Tab when the curser is in a function parenthesis. Repeatedly pressing Tab while Shift is depressed brings up more and more details."
   ]
  },
  {
   "cell_type": "code",
   "execution_count": null,
   "metadata": {},
   "outputs": [],
   "source": [
    "time.sleep(1)"
   ]
  },
  {
   "cell_type": "markdown",
   "metadata": {},
   "source": [
    "## Comments"
   ]
  },
  {
   "cell_type": "code",
   "execution_count": null,
   "metadata": {},
   "outputs": [],
   "source": [
    "# comments in a cell can be make with lines starting with a hash\n",
    "''' They can be multiline by \n",
    "enclosing them in three apostrophies'''\n",
    "print('hello world')"
   ]
  },
  {
   "cell_type": "markdown",
   "metadata": {},
   "source": [
    "### Or...\n",
    "they can be a markdown cell.\n",
    "Double click this cell to see the markdown source."
   ]
  },
  {
   "cell_type": "markdown",
   "metadata": {},
   "source": [
    "## Saving\n",
    "The file will be saved periodically and can be saved manually from the toolbar.\n",
    "\n",
    "It can also be saved as an html file or python source through the File > Download as menu entry."
   ]
  },
  {
   "cell_type": "markdown",
   "metadata": {},
   "source": [
    "## Plotting (Non-)Interactively"
   ]
  },
  {
   "cell_type": "code",
   "execution_count": null,
   "metadata": {},
   "outputs": [],
   "source": [
    "# Import matplotlib\n",
    "import matplotlib.pyplot as plt"
   ]
  },
  {
   "cell_type": "code",
   "execution_count": null,
   "metadata": {
    "scrolled": true
   },
   "outputs": [],
   "source": [
    "# Plot a series of numbers\n",
    "plt.plot([0, 1, 2])"
   ]
  },
  {
   "cell_type": "markdown",
   "metadata": {},
   "source": [
    "The plot above is clearly not interactive, because by default, matplotlib use a non-interactive backend."
   ]
  },
  {
   "cell_type": "code",
   "execution_count": null,
   "metadata": {},
   "outputs": [],
   "source": [
    "# Initialise the notebook backend\n",
    "%matplotlib widget"
   ]
  },
  {
   "cell_type": "code",
   "execution_count": null,
   "metadata": {},
   "outputs": [],
   "source": [
    "plt.plot([0, 1, 2])"
   ]
  },
  {
   "cell_type": "markdown",
   "metadata": {},
   "source": [
    "This last figure is now interactive, because we have initialised the `notebook` **matplotlib backend** using `%matplotlib notebook`"
   ]
  },
  {
   "cell_type": "markdown",
   "metadata": {},
   "source": [
    "### What is a maplotlib backend?\n",
    "\n",
    "Matplotlib can display data in many different environments and provide figures for different types of outputs: a notebook cell, a separate window, etc. The [matplotlib backend](https://matplotlib.org/stable/users/explain/figure/backends.html) refers to the part of matplotlib which generates a figure for a specific environment/output.\n",
    "\n",
    "Matplotlib has many [plotting backends](https://matplotlib.org/stable/users/explain/figure/backends.html) and the most common are:\n",
    "- [`widget`](https://matplotlib.org/ipympl/) (Jupyter Lab and Notebook)\n",
    "- `qt` (requires desktop environment)\n",
    "- `notebook` (Jupyter Notebook <7.0 only)\n",
    "\n",
    "To initialise a specific plotting backend, we usually use an [IPython magic](https://ipython.readthedocs.io/en/stable/interactive/magics.html) command:\n",
    "\n",
    "```python\n",
    "%matplotlib name_of_backend\n",
    "```"
   ]
  },
  {
   "cell_type": "markdown",
   "metadata": {},
   "source": [
    "The `notebook` backend will display the matplotlib figure as an notebook output and is **interactive**. It works only in the jupyter notebook application and not in the jupyter lab.\n",
    "\n",
    "**NOTE:** Only one interactive backend can be initialised for a running kernel. It is possible to switch from interactive to non-interactive backends but not between interactive backends. To switch interactive backends, it is necessary to restart the kernel."
   ]
  },
  {
   "cell_type": "markdown",
   "metadata": {},
   "source": [
    "### What matplotlib backend to use?\n",
    "\n",
    "In this workshop, we will primarily use the `widget` backend, because this is the only one which is currently working in cloud environment (Binder, Google Cloud Platform, Google Colab, JupyterLite, etc.) and desktop environment (running locally on your computer). However, this backend is known to be slow, which limits its use for fast interactive plotting.\n",
    "An alternative is to use the `qt` backend, but it requires the notebook server to run locally on your computer (Qt is a GUI framework, which requires a display server to run and cloud computing is not designed to run display servers)."
   ]
  },
  {
   "cell_type": "code",
   "execution_count": null,
   "metadata": {},
   "outputs": [],
   "source": [
    "# If running locally, try to change the plotting backend to `qt`\n",
    "%matplotlib qt"
   ]
  },
  {
   "cell_type": "markdown",
   "metadata": {},
   "source": [
    "At this point, this is very likely, that you get an error message. If you are running locally, the error message should tell you that that you can't change backend, therefore try to restart the kernel from the menu or the top bar."
   ]
  },
  {
   "cell_type": "code",
   "execution_count": null,
   "metadata": {},
   "outputs": [],
   "source": [
    "plt.plot([0, 1, 2])"
   ]
  },
  {
   "cell_type": "markdown",
   "metadata": {},
   "source": [
    "If you have restarted the kernel, ran the cell above just after initialising the `qt` backend, this is very likely you get a error message! This is normal, restarting a kernel means you start from scratch: variables will need to created again and libraries imported again for the current kernel."
   ]
  }
 ],
 "metadata": {
  "kernelspec": {
   "display_name": "Python 3 (ipykernel)",
   "language": "python",
   "name": "python3"
  },
  "language_info": {
   "codemirror_mode": {
    "name": "ipython",
    "version": 3
   },
   "file_extension": ".py",
   "mimetype": "text/x-python",
   "name": "python",
   "nbconvert_exporter": "python",
   "pygments_lexer": "ipython3",
   "version": "3.11.8"
  }
 },
 "nbformat": 4,
 "nbformat_minor": 4
}
