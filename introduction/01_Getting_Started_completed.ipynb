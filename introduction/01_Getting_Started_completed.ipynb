{
 "cells": [
  {
   "cell_type": "markdown",
   "metadata": {},
   "source": [
    "# Getting started\n",
    "\n",
    "Requires **HyperSpy 2.0.1 or above**\n",
    "\n",
    "## Summary\n",
    "\n",
    "This tutorial introduces you to the syntax of hyperspy and shows you how to load, save and visualise data with HyperSpy as well as other basic functionalities, such as using indexing and regions of interest.\n",
    "\n",
    "Although not strictly required, some knowledge of Python can help with getting the most out of HyperSpy. If you are new to Python, the [official tutorial](https://docs.python.org/2/tutorial/index.html) is an excellent way to start.\n",
    "\n",
    "This tutorial can be enjoyed interactively thanks to the [Jupyter Notebook](http://jupyter.org) and [IPython](http://ipython.org). If you are not familiar with the Jupyter Notebook, having a look at the `Help` menu above and the [IPython documentation](http://ipython.readthedocs.io/en/stable/interactive/index.html) is highly recommended.\n",
    "\n",
    "Important note: in the Jupyter notebook, to execute a command or group of commands in a cell, place the cursor in the cell and press 'shift+return'.\n",
    "\n",
    "## Objective\n",
    "\n",
    "By going through this notebook, you should be able to:\n",
    "* import libraries\n",
    "* read information from docstrings\n",
    "* Use autocompletion\n",
    "* discover functions and method\n",
    "* create hyperspy signals\n",
    "* load data from file\n",
    "* change scale of signals\n",
    "* visualise data\n",
    "\n",
    "\n",
    "### Credits and changes\n",
    "\n",
    "* 10/6/2024 Magnus Nord. Adapting to NordTEMHub 4D STEM data workshop\n",
    "* 12/5/2024 Mohsen Danaie. Updating the notebook for 2.0.1 version\n",
    "* 15/4/2021 Eric Prestat. Improvement for the Diamond ePSIC workshop\n",
    "* 29/7/2019 Eric Prestat. Small tweaks for the M&M Sunday short course.\n",
    "* 22/6/2018 Eric Prestat. Tweak ROIs and interactive operations for the SuperSTEM summer school.\n",
    "* 24/3/2018 Eric Prestat. Add GUIs and ROIs sections; change some comments.\n",
    "* 22/8/2016 Michael Walls. Include some more comments and explanations\n",
    "* 9/8/2016 Francisco de la Peña. Update it for HyperSpy 1.1\n",
    "* 27/7/2016 Francisco de la Peña. Update it for HyperSpy 1.0.1.\n",
    "* 6/3/2016 Francisco de la Peña. Adapted from previous tutorials for the SCANDEM workshop."
   ]
  },
  {
   "cell_type": "markdown",
   "metadata": {},
   "source": [
    "## 1. Importing HyperSpy\n",
    "\n",
    "As any other Python library, to use HyperSpy you first need to \"import\" it. The public HyperSpy API can be imported by executing\n",
    "\n",
    "    import hyperspy.api as hs\n",
    "    \n",
    "However, in order to enable interactive plotting, the matplotlib \"backend\" need to be set **first** using the [%matplotlib IPython magic](http://ipython.readthedocs.io/en/stable/interactive/plotting.html) command.\n",
    "\n",
    "Typically, you may come to use the following backend:\n",
    "- [`widget`](https://matplotlib.org/ipympl/) (Jupyter Lab and Notebook).\n",
    "- `qt` (requires desktop environment)\n",
    "- `notebook` (Jupyter Notebook <7.0 only)\n",
    "\n",
    "With the `notebook` and `widget` backend, the figure will be embedded in the notebook, while with other backends (`qt` or `tk`), the figure will be displayed as separate windows outside of the notebook.\n",
    "\n",
    "**NOTE:** A \"backend\" in this context refers to the code determining the way in which the plotted data will be displayed. In the online version of this document we use the `widget` backend that displays interactive figures inside the Jupyter Notebook. Other backends, such as `qt` or `tk` can be used. If you get an error message, it is most likely that the selected backend is not available on your system.\n",
    "\n",
    "For more detailed explanation on the compatibility of the different matplotlib backends with the HyperSpy GUIs, read the [starting HyperSpy in the notebook](http://hyperspy.org/hyperspy-doc/current/user_guide/getting_started.html#starting-hyperspy-in-the-notebook-or-terminal) section of the documentation."
   ]
  },
  {
   "cell_type": "code",
   "execution_count": null,
   "metadata": {
    "scrolled": true
   },
   "outputs": [],
   "source": [
    "# This is a Python comment line - anything after a hashtag is a non-executed comment\n",
    "# Use the %matplotlib IPython magic to set the matploltib backend:\n",
    "%matplotlib widget\n",
    "# To run remotely, use the `widget` backend, otherwise other available backend e.g `qt`, `tk`, ..."
   ]
  },
  {
   "cell_type": "code",
   "execution_count": null,
   "metadata": {},
   "outputs": [],
   "source": [
    "# Import hyperspy:\n",
    "import hyperspy.api as hs"
   ]
  },
  {
   "cell_type": "markdown",
   "metadata": {},
   "source": [
    "## 2. Getting help\n",
    "\n",
    "HyperSpy documentation includes\n",
    "\n",
    "* The [User Guide](http://hyperspy.org/hyperspy-doc/current/index.html)\n",
    "* The docstrings (see below)\n",
    "* The [demos](http://nbviewer.jupyter.org/github/hyperspy/hyperspy-demos/tree/master/) such as this one.\n",
    "* The [gitter chat](https://gitter.im/hyperspy/hyperspy)  \n",
    "\n",
    "\n",
    "### Docstrings\n",
    "\n",
    "In Python most objects include their own documentation (docstring in Python jargon). In the Jupyter notebook you can consult the documentation interactively by:\n",
    "\n",
    "* Adding a question mark to the object, e.g. load?\n",
    "* If the object is a function or a method, by pressing the ``Shift + Tab`` keys after writing the first brackets, e.g. load (&lt;``Shift + Tab``>)\n",
    "\n",
    "\n",
    "All HyperSpy public objects are contained in the ``hs`` variable that we have imported above. Let's practice the different methods to access the docstrings by inspecting the ``hs`` docstring:"
   ]
  },
  {
   "cell_type": "code",
   "execution_count": null,
   "metadata": {},
   "outputs": [],
   "source": [
    "# Use the question mark to inspect the `hs` object:\n",
    "hs?"
   ]
  },
  {
   "cell_type": "markdown",
   "metadata": {},
   "source": [
    "The `dir` function is very helpful to inspect the attributes of Python objects"
   ]
  },
  {
   "cell_type": "code",
   "execution_count": null,
   "metadata": {},
   "outputs": [],
   "source": [
    "# Use the dir function to inspect the attribute of the `hs` object:\n",
    "dir(hs)"
   ]
  },
  {
   "cell_type": "markdown",
   "metadata": {},
   "source": [
    "## 3. Structure overview\n",
    "\n",
    "HyperSpy provides (among other things):\n",
    "* A collection of \"signals\" which are specialised data containers with functions (methods in Python jargon) that operate on the data. They can be found in ``hs.signals``.\n",
    "* Functions that operate on the signals. For example ``hs.stack`` to stack signals and the several functions in ``hs.plot``.\n",
    "* A collection of \"model\" classes that generate models (usually for fitting) by linearly combining the components in ``hs.model.components``.\n",
    "* A function that prints all the signal types defined in some of extension packages\n",
    "* Some example data in `hs.data`"
   ]
  },
  {
   "cell_type": "code",
   "execution_count": null,
   "metadata": {},
   "outputs": [],
   "source": [
    "hs.data.atomic_resolution_image()"
   ]
  },
  {
   "cell_type": "code",
   "execution_count": null,
   "metadata": {},
   "outputs": [],
   "source": [
    "# Inspect the attribute of hs.signals:\n",
    "hs.signals."
   ]
  },
  {
   "cell_type": "code",
   "execution_count": null,
   "metadata": {},
   "outputs": [],
   "source": [
    "# Find out about the pre-defined signal types in hs extensions:\n",
    "hs.print_known_signal_types()"
   ]
  },
  {
   "cell_type": "code",
   "execution_count": null,
   "metadata": {},
   "outputs": [],
   "source": [
    "# Assign a dataset example to `s`:\n",
    "s = hs.data.atomic_resolution_image()"
   ]
  },
  {
   "cell_type": "code",
   "execution_count": null,
   "metadata": {},
   "outputs": [],
   "source": [
    "# To know what is the object `s`, write `s` and execute the cell:\n",
    "s"
   ]
  },
  {
   "cell_type": "code",
   "execution_count": null,
   "metadata": {},
   "outputs": [],
   "source": [
    "# Plot `s`:\n",
    "s.plot()"
   ]
  },
  {
   "cell_type": "markdown",
   "metadata": {},
   "source": [
    "### Very useful tip: \"Autocompletion\"\n",
    "\n",
    "In fact, long commands like the previous one can be entered more quickly using the ``tab`` key. Just enter the first few letters of the command, press ``tab`` and a list of the possible commands will appear. Navigate to the required command with the arrow keys (you still need the brackets at the end). If you are in interactive mode, try it in the cell below:\n",
    "\n",
    "To create a HyperSpy signal, just pass some data to one of the signals in ``hs.signals`` e.g."
   ]
  },
  {
   "cell_type": "code",
   "execution_count": null,
   "metadata": {},
   "outputs": [],
   "source": [
    "# Create a 1D signal named `ten` which contains integer values from one to ten:\n",
    "ten = hs.signals.Signal1D([0, 1, 2, 3, 4, 5, 6, 7])"
   ]
  },
  {
   "cell_type": "markdown",
   "metadata": {},
   "source": [
    "Now the `ten` variable contains a `Signal1D` instance.\n",
    "\n",
    "Note that, thanks to [IPython](http://ipython.readthedocs.io/en/stable/interactive/tutorial.html#tab-completion), there is no need to type all the commands or paths manually—it is enough to write the first letters and press the `Tab` key."
   ]
  },
  {
   "cell_type": "code",
   "execution_count": null,
   "metadata": {},
   "outputs": [],
   "source": [
    "# Use Tab to use the autocompletion of the `ten`:\n",
    "ten"
   ]
  },
  {
   "cell_type": "markdown",
   "metadata": {},
   "source": [
    "Most of the operations that we can perform in the data are available inside this object, and can be accessed by writing a *dot* i.e. `.` after the name of the variable, pressing the ``Tab`` key and choosing an option from the list that appears. Alternatively, use the `dir` function to print them all."
   ]
  },
  {
   "cell_type": "code",
   "execution_count": null,
   "metadata": {},
   "outputs": [],
   "source": [
    "# Use Tab after `ten.` or the `dir` function to inspect all attributes (variables or methods) attached to `ten`:\n",
    "ten."
   ]
  },
  {
   "cell_type": "markdown",
   "metadata": {},
   "source": [
    "For example:"
   ]
  },
  {
   "cell_type": "code",
   "execution_count": null,
   "metadata": {},
   "outputs": [],
   "source": [
    "# Call the `print_summary_statistics` function of the `ten` object using autocompletion:\n",
    "ten.print_summary_statistics()"
   ]
  },
  {
   "cell_type": "markdown",
   "metadata": {},
   "source": [
    "## 4. Loading data from a file\n",
    "\n",
    "More typically we load data from files using the `hs.load` function and assign the results of the `hs.load` function to a variable, for example `s`"
   ]
  },
  {
   "cell_type": "code",
   "execution_count": null,
   "metadata": {},
   "outputs": [],
   "source": [
    "s = hs.load('SPED_Ag.hspy')"
   ]
  },
  {
   "cell_type": "markdown",
   "metadata": {},
   "source": [
    "Let's check what is inside the `s` variable:"
   ]
  },
  {
   "cell_type": "code",
   "execution_count": null,
   "metadata": {},
   "outputs": [],
   "source": [
    "s"
   ]
  },
  {
   "cell_type": "markdown",
   "metadata": {},
   "source": [
    "HyperSpy has loaded the data into an `ElectronDiffraction2D` object that we have stored in the `s` variable. The symbol | separates the navigation dimensions *x*, *y* and the signal dimensions, in this case the detector pixels *kx* and *ky*."
   ]
  },
  {
   "cell_type": "markdown",
   "metadata": {},
   "source": [
    "## 4.1 Plotting multidimensional data"
   ]
  },
  {
   "cell_type": "code",
   "execution_count": null,
   "metadata": {},
   "outputs": [],
   "source": [
    "s.plot()"
   ]
  },
  {
   "cell_type": "markdown",
   "metadata": {},
   "source": [
    "### Moving around \n",
    "\n",
    "* Using the keyboard arrow keys\n",
    "* Using the pointer\n",
    "\n",
    "### Other shortcuts\n",
    "\n",
    "* Two pointers: enable/disable by pressing **e**\n",
    "* Adjust image contrast:  press **h** (matplotlib qt backend only)\n",
    "* Increase/decrease the pointer size: **+** and **-** keys (doesn't sum nor average over the navigation axes, this is only to move the pointer more easily)\n",
    "\n",
    "When using HyperSpy, it is common to have many open figures at a given time. The `close` [matplotlib](http://matplotlib.org) command is useful to close all the images at once, but, for that, first we have to import matplotlib:"
   ]
  },
  {
   "cell_type": "code",
   "execution_count": null,
   "metadata": {},
   "outputs": [],
   "source": [
    "# import matplotlib:\n",
    "import matplotlib.pyplot as plt\n",
    "\n",
    "# Use the `close` matplotlib function to close all figures:\n",
    "plt.close('all')"
   ]
  },
  {
   "cell_type": "markdown",
   "metadata": {},
   "source": [
    "The visualisation of the data can be customised by specifying the arguments of the `plot` methods. See its docstring or the [data visualisation](http://hyperspy.org/hyperspy-doc/current/user_guide/visualisation.html) section of the user guide."
   ]
  },
  {
   "cell_type": "markdown",
   "metadata": {},
   "source": [
    "## 5. Axis properties\n",
    "\n",
    "The axes (*x*, *y* and *energy loss*) are stored in the `axes_manager` attribute:"
   ]
  },
  {
   "cell_type": "code",
   "execution_count": null,
   "metadata": {},
   "outputs": [],
   "source": [
    "# Display the axes manager (look for the `axes_manager` attribute):\n",
    "s.axes_manager"
   ]
  },
  {
   "cell_type": "markdown",
   "metadata": {},
   "source": [
    "HyperSpy distinguishes between *signal* and *navigation* axes and most functions operate on the signal axes and iterate on the navigation axes. With our current signal, `s` `x` and `y` are the navigation dimensions and *kx* and *ky* the signal dimensions.\n",
    "\n",
    "The `AxesManager` can be indexed using the standard python indexing syntax (square brackets):"
   ]
  },
  {
   "cell_type": "code",
   "execution_count": null,
   "metadata": {},
   "outputs": [],
   "source": [
    "# Get the first axis of the axes manager:\n",
    "s.axes_manager[0]"
   ]
  },
  {
   "cell_type": "markdown",
   "metadata": {},
   "source": [
    "It is also possible to index the `AxesManager` by name:"
   ]
  },
  {
   "cell_type": "code",
   "execution_count": null,
   "metadata": {},
   "outputs": [],
   "source": [
    "# Get the axis named `Energy loss` of the `axes_manager` (indexing using string):\n",
    "s.axes_manager['kx']"
   ]
  },
  {
   "cell_type": "markdown",
   "metadata": {},
   "source": [
    "The axes have `offset`, `scale`, `units` and `name` attributes"
   ]
  },
  {
   "cell_type": "code",
   "execution_count": null,
   "metadata": {},
   "outputs": [],
   "source": [
    "# Get the units of the energy axis (look for the units attribute of an axis):\n",
    "s.axes_manager['kx'].units"
   ]
  },
  {
   "cell_type": "code",
   "execution_count": null,
   "metadata": {},
   "outputs": [],
   "source": [
    "s.axes_manager['kx'].scale"
   ]
  },
  {
   "cell_type": "markdown",
   "metadata": {},
   "source": [
    "## 6. Swapping signal and navigation axes\n",
    "\n",
    "We can change the way in which Hyperspy \"sees\" the data by transposing the data."
   ]
  },
  {
   "cell_type": "code",
   "execution_count": null,
   "metadata": {},
   "outputs": [],
   "source": [
    "s_t = s.T"
   ]
  },
  {
   "cell_type": "markdown",
   "metadata": {},
   "source": [
    "Now we've switched the navigation and signal axes!"
   ]
  },
  {
   "cell_type": "code",
   "execution_count": null,
   "metadata": {},
   "outputs": [],
   "source": [
    "# Print what is `im`:\n",
    "s_t"
   ]
  },
  {
   "cell_type": "markdown",
   "metadata": {},
   "source": [
    "Now we can visualize the same data while navigating over the detector positions."
   ]
  },
  {
   "cell_type": "code",
   "execution_count": null,
   "metadata": {},
   "outputs": [],
   "source": [
    "# Plot `im`:\n",
    "s_t.plot()"
   ]
  },
  {
   "cell_type": "markdown",
   "metadata": {},
   "source": [
    "Using the `transpose` (or `T`) function, the dataset dimensions can be interpreted as desired: either as signal or navigation axes. See the [transposing section](http://hyperspy.readthedocs.io/en/stable/user_guide/tools.html#transposing-changing-signal-spaces) to the user guide for more information."
   ]
  },
  {
   "cell_type": "markdown",
   "metadata": {},
   "source": [
    "## 10. Indexing\n",
    "\n",
    "HyperSpy signals can be indexed using the `isig` and `inav` attributes. Indexing is a very powerful feature. To go beyond the basic examples here have a look at the [User Guide](http://hyperspy.org/hyperspy-doc/current/user_guide/tools.html#indexing)."
   ]
  },
  {
   "cell_type": "code",
   "execution_count": null,
   "metadata": {},
   "outputs": [],
   "source": [
    "# Plot `im`:\n",
    "s.plot()"
   ]
  },
  {
   "cell_type": "markdown",
   "metadata": {},
   "source": [
    "We can index the navigation axes using the `inav` attribute, which will returns another signal.\n",
    "\n",
    "For example, to obtain just the image in the first navigation position"
   ]
  },
  {
   "cell_type": "code",
   "execution_count": null,
   "metadata": {},
   "outputs": [],
   "source": [
    "s1 = s.inav[0, 0]"
   ]
  },
  {
   "cell_type": "code",
   "execution_count": null,
   "metadata": {},
   "outputs": [],
   "source": [
    "s1"
   ]
  },
  {
   "cell_type": "markdown",
   "metadata": {},
   "source": [
    "A range of incides can be obtained using the `:` between the first and the last indices wanted. If the first or the last index isn't provided, hyperspy will ignore the first or the last, respectively"
   ]
  },
  {
   "cell_type": "code",
   "execution_count": null,
   "metadata": {},
   "outputs": [],
   "source": [
    "s2 = s.inav[0:10, 0:10]"
   ]
  },
  {
   "cell_type": "code",
   "execution_count": null,
   "metadata": {},
   "outputs": [],
   "source": [
    "s2"
   ]
  },
  {
   "cell_type": "markdown",
   "metadata": {},
   "source": [
    "Negative indices are interpreted as counting from the end, so the following is an alternative syntax to obtain the last two channels:"
   ]
  },
  {
   "cell_type": "code",
   "execution_count": null,
   "metadata": {},
   "outputs": [],
   "source": [
    "s3 = s.inav[-10:, -5:]"
   ]
  },
  {
   "cell_type": "code",
   "execution_count": null,
   "metadata": {},
   "outputs": [],
   "source": [
    "s3"
   ]
  },
  {
   "cell_type": "markdown",
   "metadata": {},
   "source": [
    "Equivalently, we can use `isig` to index the signal axes"
   ]
  },
  {
   "cell_type": "code",
   "execution_count": null,
   "metadata": {},
   "outputs": [],
   "source": [
    "s4 = s.isig[50:70, 50:70]"
   ]
  },
  {
   "cell_type": "code",
   "execution_count": null,
   "metadata": {},
   "outputs": [],
   "source": [
    "s4"
   ]
  },
  {
   "cell_type": "code",
   "execution_count": null,
   "metadata": {},
   "outputs": [],
   "source": [
    "s4.plot()"
   ]
  },
  {
   "cell_type": "markdown",
   "metadata": {},
   "source": [
    "Like most other methods, `isig` and `inav` can be chained e.g.:"
   ]
  },
  {
   "cell_type": "code",
   "execution_count": null,
   "metadata": {},
   "outputs": [],
   "source": [
    "s5 = s.inav[10:20, 10:20].isig[50:80, 50:80]"
   ]
  },
  {
   "cell_type": "code",
   "execution_count": null,
   "metadata": {},
   "outputs": [],
   "source": [
    "s5.axes_manager"
   ]
  },
  {
   "cell_type": "markdown",
   "metadata": {},
   "source": [
    "We can also do this using scaled units. For example, if we want to extract just the centre spot. Which is located in in the (0.0, 0.0) position. Use the mouse to see the coordinates."
   ]
  },
  {
   "cell_type": "code",
   "execution_count": null,
   "metadata": {},
   "outputs": [],
   "source": [
    "s.plot()"
   ]
  },
  {
   "cell_type": "markdown",
   "metadata": {},
   "source": [
    "NOTE: here we must use floats, ergo decimal numbers"
   ]
  },
  {
   "cell_type": "code",
   "execution_count": null,
   "metadata": {},
   "outputs": [],
   "source": [
    "s6 = s.isig[-0.2:0.2, -0.2:0.2]"
   ]
  },
  {
   "cell_type": "code",
   "execution_count": null,
   "metadata": {},
   "outputs": [],
   "source": [
    "s6.plot()"
   ]
  },
  {
   "cell_type": "markdown",
   "metadata": {},
   "source": [
    "## 9. Saving to file\n",
    "\n",
    "A signal can be saved by calling its `save` method and passing the filename as first argument."
   ]
  },
  {
   "cell_type": "code",
   "execution_count": null,
   "metadata": {},
   "outputs": [],
   "source": [
    "s7 = s.inav[40:50, 40:50]"
   ]
  },
  {
   "cell_type": "code",
   "execution_count": null,
   "metadata": {},
   "outputs": [],
   "source": [
    "s7.save(\"test.hspy\")"
   ]
  },
  {
   "cell_type": "markdown",
   "metadata": {},
   "source": [
    "Note that not all file formats can handle all data types"
   ]
  },
  {
   "cell_type": "code",
   "execution_count": null,
   "metadata": {},
   "outputs": [],
   "source": [
    "s7.save(\"test.tiff\")"
   ]
  },
  {
   "cell_type": "markdown",
   "metadata": {},
   "source": [
    "How to make nice, publishable plots, will be covered in another Notebook."
   ]
  }
 ],
 "metadata": {
  "kernelspec": {
   "display_name": "Python 3 (ipykernel)",
   "language": "python",
   "name": "python3"
  },
  "language_info": {
   "codemirror_mode": {
    "name": "ipython",
    "version": 3
   },
   "file_extension": ".py",
   "mimetype": "text/x-python",
   "name": "python",
   "nbconvert_exporter": "python",
   "pygments_lexer": "ipython3",
   "version": "3.11.8"
  }
 },
 "nbformat": 4,
 "nbformat_minor": 4
}
