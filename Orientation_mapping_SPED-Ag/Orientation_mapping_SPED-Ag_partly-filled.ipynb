{
 "cells": [
  {
   "cell_type": "markdown",
   "id": "4f051d47-c2d1-48de-aa42-a58b56a577fc",
   "metadata": {},
   "source": [
    "## SPED Session 1: Orientation Mapping & Vectors (Partially filled)\n",
    "**4D-STEM data analysis workshop**\n",
    "**NTNU, Trondheim, June 12, 2024** - by Tina Bergh\n"
   ]
  },
  {
   "cell_type": "code",
   "execution_count": null,
   "id": "84898933-5109-4608-917a-66f5b3d8a38b",
   "metadata": {},
   "outputs": [],
   "source": [
    "%matplotlib qt"
   ]
  },
  {
   "cell_type": "code",
   "execution_count": null,
   "id": "11d76140-5c77-42c4-8e19-a90adb401de8",
   "metadata": {},
   "outputs": [],
   "source": [
    "import numpy as np\n",
    "import matplotlib.pyplot as plt\n",
    "import hyperspy.api as hs\n",
    "import pyxem as pxm\n",
    "import orix"
   ]
  },
  {
   "cell_type": "code",
   "execution_count": null,
   "id": "d1699853-1de2-4436-94a8-e91ce4d261b3",
   "metadata": {},
   "outputs": [],
   "source": [
    "folder = '.\\\\'\n",
    "file = 'SPED_Ag'\n",
    "file_ending = '.hspy'"
   ]
  },
  {
   "cell_type": "code",
   "execution_count": null,
   "id": "b4081118-8598-4c7a-9f4d-b93857454719",
   "metadata": {},
   "outputs": [],
   "source": [
    "s = hs.load(folder+file+file_ending)"
   ]
  },
  {
   "cell_type": "markdown",
   "id": "a3e50e2c-fdfb-4cf4-b25d-8f6d3de1b712",
   "metadata": {},
   "source": [
    "Load the results from yesterday's decomposition session \"Machine_learning_SPED-Ag.ipynb\". If you did not sucessfully run this notebook, download the .hspy files found in this folder and put them in the same folder as where your dataset is. https://github.com/TEM-Gemini-Centre/nordtemhub_4DSTEMworkshop_2024/tree/main/Machine_learning_2_SPED-Ag"
   ]
  },
  {
   "cell_type": "code",
   "execution_count": null,
   "id": "1db44690-1861-416f-97fa-a8f1212ca3d9",
   "metadata": {},
   "outputs": [],
   "source": [
    "labels = hs.load(folder+file+'_labels'+file_ending)\n",
    "labels_sum_signal = hs.load(folder+file+'_labels_sum_signal'+file_ending)\n",
    "hs.plot.plot_signals([labels, labels_sum_signal])"
   ]
  },
  {
   "cell_type": "markdown",
   "id": "1f6e87f5-c997-4c55-8c44-70003bef7abc",
   "metadata": {},
   "source": [
    "# Simulate template bank for silver"
   ]
  },
  {
   "cell_type": "code",
   "execution_count": null,
   "id": "5fc1fa96-b2fb-4af4-acd0-4a0a148f8fb5",
   "metadata": {},
   "outputs": [],
   "source": []
  },
  {
   "cell_type": "code",
   "execution_count": null,
   "id": "1fed0201-521d-457d-a72d-fed4330d6d1a",
   "metadata": {},
   "outputs": [],
   "source": []
  },
  {
   "cell_type": "markdown",
   "id": "fbb92e80-0d38-491b-a93a-905a77b2a5c6",
   "metadata": {},
   "source": [
    "## Template matching of the summed signals"
   ]
  },
  {
   "cell_type": "code",
   "execution_count": null,
   "id": "7a1560e7-246c-4da5-9e49-3197157f5946",
   "metadata": {},
   "outputs": [],
   "source": []
  },
  {
   "cell_type": "code",
   "execution_count": null,
   "id": "f1bda442-66e0-4666-a9bb-dfc975d143f9",
   "metadata": {},
   "outputs": [],
   "source": []
  },
  {
   "cell_type": "code",
   "execution_count": null,
   "id": "db9e4495-64e0-44ef-9964-956224a00ab7",
   "metadata": {
    "scrolled": true
   },
   "outputs": [],
   "source": [
    "i = 2 # 0\n",
    "\n",
    "correlations_i = results.inav[i].data[:, 1]\n",
    "template_indices_i = (results.inav[i].data[:, 0]).astype('int16')\n",
    "orientations_i = orientations[template_indices_i]\n",
    "euler_angles_i = orientations_i.to_euler()\n",
    "\n",
    "fig = plt.figure()\n",
    "ax = fig.add_subplot(111, projection=\"ipf\", symmetry=phase.point_group)\n",
    "ax.scatter(orientations_i, c=correlations_i, cmap='inferno')\n",
    "ax.set_title('Correlation for label '+str(i))\n",
    "\n",
    "# Print the hkl indices of the best matching simulation:\n",
    "sim_i = simulations.get_simulation(template_indices_i[0])\n",
    "sim_i"
   ]
  },
  {
   "cell_type": "code",
   "execution_count": null,
   "id": "4b9ce660-8699-4fa6-8b10-07bea4b89c87",
   "metadata": {},
   "outputs": [],
   "source": []
  },
  {
   "cell_type": "code",
   "execution_count": null,
   "id": "2fcb1ec6-b687-44e0-bfb2-e54f8569dcf5",
   "metadata": {},
   "outputs": [],
   "source": []
  },
  {
   "cell_type": "markdown",
   "id": "760b75a2-b442-48a2-b5c2-e69e64310069",
   "metadata": {},
   "source": [
    "### Look at the found orientations"
   ]
  },
  {
   "cell_type": "code",
   "execution_count": null,
   "id": "d9e101a6-a6cc-4b6d-9537-3830852bb339",
   "metadata": {},
   "outputs": [],
   "source": []
  },
  {
   "cell_type": "code",
   "execution_count": null,
   "id": "d66b743f-b588-4b9f-beaf-eeb8ca37194f",
   "metadata": {},
   "outputs": [],
   "source": []
  },
  {
   "cell_type": "markdown",
   "id": "890a57dc-baf2-4112-8c93-8b163ce3233d",
   "metadata": {},
   "source": [
    "## Sample orientations only around the found zone axes"
   ]
  },
  {
   "cell_type": "code",
   "execution_count": null,
   "id": "4fa6a30e-964a-4c12-b542-b79dcf674633",
   "metadata": {},
   "outputs": [],
   "source": []
  },
  {
   "cell_type": "code",
   "execution_count": null,
   "id": "1752fe2e-0036-4502-b7c3-fbc389015400",
   "metadata": {},
   "outputs": [],
   "source": []
  },
  {
   "cell_type": "markdown",
   "id": "30f5773a-f31d-49cd-842b-1887efb178fb",
   "metadata": {},
   "source": [
    "## Diffraction vectors"
   ]
  },
  {
   "cell_type": "code",
   "execution_count": null,
   "id": "ae451687-6ef3-49d8-879b-e5660b20f7e4",
   "metadata": {},
   "outputs": [],
   "source": []
  },
  {
   "cell_type": "code",
   "execution_count": null,
   "id": "3b913621-59a4-4d84-ba23-911b9f4c9852",
   "metadata": {},
   "outputs": [],
   "source": []
  },
  {
   "cell_type": "code",
   "execution_count": null,
   "id": "328108b8-9be0-480f-a70a-6ec7928087a1",
   "metadata": {
    "scrolled": true
   },
   "outputs": [],
   "source": [
    "i, j = 42, 42\n",
    "# i, j = 12, 60\n",
    "# i, j = 166, 16\n",
    "s_ij = s.inav[i:i+1, j:j+1]\n",
    "st_ij = st.inav[i:i+1, j:j+1]\n",
    "\n",
    "st_ij_peaks = st_ij.get_diffraction_vectors(min_distance=3, threshold_abs=0.3)\n",
    "\n",
    "m = st_ij_peaks.to_markers(sizes=3, color='cyan')\n",
    "s_ij.plot(cmap='magma', norm='log')\n",
    "s_ij.add_marker(m)"
   ]
  },
  {
   "cell_type": "code",
   "execution_count": null,
   "id": "fe6c4a01-d512-46a5-a1ef-dd5094ecdd46",
   "metadata": {},
   "outputs": [],
   "source": []
  },
  {
   "cell_type": "code",
   "execution_count": null,
   "id": "49b66f4e-f55e-49f3-9218-bc5f4468e307",
   "metadata": {},
   "outputs": [],
   "source": []
  },
  {
   "cell_type": "code",
   "execution_count": null,
   "id": "a8e78596-3aee-4f3c-ac26-954052ce7f1c",
   "metadata": {
    "scrolled": true
   },
   "outputs": [],
   "source": [
    "hkls = ((1,1,1), (0,0,2), (0,2,2), (1,1,3), (2,2,2), (0,0,4), (1,3,3), (0,2,4), (1,1,5), (0,0,6))\n",
    "hkls_texts = [str(hkl[0])+','+str(hkl[1])+','+str(hkl[2])  for hkl in hkls]\n",
    "\n",
    "inverse_ds = np.array([1/np.sqrt(a**2/(hkl[0]**2+hkl[1]**2+hkl[2]**2)) for hkl in hkls])\n",
    "np.set_printoptions(precision=2)\n",
    "print('d-spacings in Å: ', 1/inverse_ds)\n",
    "print('inverse d-spacings in Å-1: ', inverse_ds)\n",
    "\n",
    "hkls_texts_pos = np.stack([inverse_ds, np.zeros_like(inverse_ds)], axis=-1)\n",
    "\n",
    "vectors_mags_hist.plot()\n",
    "\n",
    "mi = hs.plot.markers.VerticalLines(offsets=inverse_ds, linewidth=1, colors='k')\n",
    "vectors_mags_hist.add_marker(mi)\n",
    "\n",
    "mit = hs.plot.markers.Texts(offsets=hkls_texts_pos, texts=hkls_texts, color='blue')\n",
    "vectors_mags_hist.add_marker(mit)"
   ]
  },
  {
   "cell_type": "code",
   "execution_count": null,
   "id": "c9fc227d-0d63-421c-a247-ec8b57df5a4a",
   "metadata": {},
   "outputs": [],
   "source": []
  },
  {
   "cell_type": "code",
   "execution_count": null,
   "id": "77e160f1-b39b-40c3-8cec-8826acdcbf8c",
   "metadata": {},
   "outputs": [],
   "source": []
  },
  {
   "cell_type": "markdown",
   "id": "a258a2a8-ac12-4824-85ba-482de4db4db7",
   "metadata": {},
   "source": [
    "# Orientation mapping"
   ]
  },
  {
   "cell_type": "code",
   "execution_count": null,
   "id": "2d0124b0-b129-44c4-8d83-353a23e62c4d",
   "metadata": {},
   "outputs": [],
   "source": []
  },
  {
   "cell_type": "code",
   "execution_count": null,
   "id": "78757d56-46f2-46d9-ad2b-f69c1f7b8c7f",
   "metadata": {},
   "outputs": [],
   "source": []
  }
 ],
 "metadata": {
  "kernelspec": {
   "display_name": "Python 3 (ipykernel)",
   "language": "python",
   "name": "python3"
  },
  "language_info": {
   "codemirror_mode": {
    "name": "ipython",
    "version": 3
   },
   "file_extension": ".py",
   "mimetype": "text/x-python",
   "name": "python",
   "nbconvert_exporter": "python",
   "pygments_lexer": "ipython3",
   "version": "3.12.3"
  }
 },
 "nbformat": 4,
 "nbformat_minor": 5
}
