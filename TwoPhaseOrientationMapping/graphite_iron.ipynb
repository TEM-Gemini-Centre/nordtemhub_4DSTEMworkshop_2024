{
 "cells": [
  {
   "cell_type": "code",
   "execution_count": null,
   "id": "2f06f6d7-ef00-45ce-be97-fcc23340853d",
   "metadata": {
    "editable": true,
    "slideshow": {
     "slide_type": ""
    },
    "tags": []
   },
   "outputs": [],
   "source": [
    "%matplotlib qt5\n",
    "from hyperspy import api as hs\n",
    "import numpy as np\n",
    "import matplotlib.pyplot as plt"
   ]
  },
  {
   "cell_type": "markdown",
   "id": "78292b5a-f803-434d-94b3-ae89115eb6be",
   "metadata": {},
   "source": [
    "## Load data"
   ]
  },
  {
   "cell_type": "markdown",
   "id": "507a2f83-0d65-4ce2-8a28-5130240086a6",
   "metadata": {},
   "source": [
    "## Center diffraction patterns"
   ]
  },
  {
   "cell_type": "markdown",
   "id": "99a73a09-81bf-4f1f-9460-d28eae797bad",
   "metadata": {},
   "source": [
    "## Calibrate dataset"
   ]
  },
  {
   "cell_type": "markdown",
   "id": "1e90f3fc-01a0-459c-b857-b3aa0b5a911d",
   "metadata": {},
   "source": [
    "## Crop dataset"
   ]
  },
  {
   "cell_type": "markdown",
   "id": "c8f2910a-f982-414a-b970-94333daf7eeb",
   "metadata": {},
   "source": [
    "## Background subtraction"
   ]
  },
  {
   "cell_type": "markdown",
   "id": "87857e6f-bd7e-4eb0-bce7-1968194c8e82",
   "metadata": {},
   "source": [
    "## Template library"
   ]
  },
  {
   "cell_type": "markdown",
   "id": "0a4b3e5f-fdbb-4678-97a0-583ecac3323a",
   "metadata": {},
   "source": [
    "## Template matching (graphite only)"
   ]
  },
  {
   "cell_type": "markdown",
   "id": "f526bef3-6d2a-4f56-b43e-8bc9f967c5ad",
   "metadata": {},
   "source": [
    "### Orientation map (graphite)"
   ]
  },
  {
   "cell_type": "markdown",
   "id": "684cb1ee-3b30-4bb8-aba9-7fc94ca3de2e",
   "metadata": {
    "editable": true,
    "slideshow": {
     "slide_type": ""
    },
    "tags": []
   },
   "source": [
    "### CrystalMap (graphite)"
   ]
  },
  {
   "cell_type": "markdown",
   "id": "1f5782b0-3acb-48ee-bd8d-ceacea7b21ba",
   "metadata": {},
   "source": [
    "### Find zone axis"
   ]
  },
  {
   "cell_type": "markdown",
   "id": "94d0fdda-5256-40d8-9b18-aa2afd72c973",
   "metadata": {},
   "source": [
    "## Template matching, 2 phases"
   ]
  },
  {
   "cell_type": "markdown",
   "id": "b357711e-4e11-46be-81a2-8468eebc5f3e",
   "metadata": {},
   "source": [
    "### CrystalMap (2 phases)"
   ]
  },
  {
   "cell_type": "code",
   "execution_count": null,
   "id": "0023d90f-ac57-4e7a-83b6-3d852a72e14a",
   "metadata": {},
   "outputs": [],
   "source": []
  }
 ],
 "metadata": {
  "kernelspec": {
   "display_name": "pyxem0.19.1",
   "language": "python",
   "name": "pyxem0.19.1"
  },
  "language_info": {
   "codemirror_mode": {
    "name": "ipython",
    "version": 3
   },
   "file_extension": ".py",
   "mimetype": "text/x-python",
   "name": "python",
   "nbconvert_exporter": "python",
   "pygments_lexer": "ipython3",
   "version": "3.11.9"
  }
 },
 "nbformat": 4,
 "nbformat_minor": 5
}
