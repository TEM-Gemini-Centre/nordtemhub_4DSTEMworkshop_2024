{
 "cells": [
  {
   "cell_type": "code",
   "execution_count": null,
   "id": "2f06f6d7-ef00-45ce-be97-fcc23340853d",
   "metadata": {
    "editable": true,
    "slideshow": {
     "slide_type": ""
    },
    "tags": []
   },
   "outputs": [],
   "source": [
    "%matplotlib qt5\n",
    "from hyperspy import api as hs\n",
    "import numpy as np\n",
    "import matplotlib.pyplot as plt\n",
    "\n",
    "from orix.crystal_map import Phase\n",
    "from orix.sampling import get_sample_reduced_fundamental\n",
    "from orix import plot, io\n",
    "from orix.quaternion import Orientation, Rotation, symmetry\n",
    "from orix.vector import Vector3d, Miller\n",
    "\n",
    "from diffsims.generators.simulation_generator import SimulationGenerator\n",
    "import diffpy"
   ]
  },
  {
   "cell_type": "code",
   "execution_count": null,
   "id": "7f06139d-4b80-4c34-9222-cec0151411f9",
   "metadata": {},
   "outputs": [],
   "source": [
    "hs.set_log_level(\"ERROR\")"
   ]
  },
  {
   "cell_type": "markdown",
   "id": "78292b5a-f803-434d-94b3-ae89115eb6be",
   "metadata": {},
   "source": [
    "## Load data"
   ]
  },
  {
   "cell_type": "code",
   "execution_count": null,
   "id": "be22ab10-0fcb-46ac-bfc7-fde1e152c709",
   "metadata": {},
   "outputs": [],
   "source": [
    "signal = hs.load(\"graphite_iron_200x200.hspy\", lazy=True)"
   ]
  },
  {
   "cell_type": "code",
   "execution_count": null,
   "id": "8cac3d9f-a391-4d04-abc7-86bf77053fb7",
   "metadata": {},
   "outputs": [],
   "source": [
    "signal.axes_manager"
   ]
  },
  {
   "cell_type": "code",
   "execution_count": null,
   "id": "0bcf21d0-0a05-4803-857d-419f3cf8e92a",
   "metadata": {},
   "outputs": [],
   "source": [
    "signal.axes_manager[0].offset = 0\n",
    "signal.axes_manager[1].offset = 0"
   ]
  },
  {
   "cell_type": "code",
   "execution_count": null,
   "id": "ebd94819-8449-497b-82d9-a5876298ae4c",
   "metadata": {},
   "outputs": [],
   "source": [
    "signal"
   ]
  },
  {
   "cell_type": "code",
   "execution_count": null,
   "id": "f4ac2d88-b2df-41a6-9b62-22c8b43ff5e3",
   "metadata": {},
   "outputs": [],
   "source": [
    "signal.plot(cmap=\"magma_r\", gamma=0.5)"
   ]
  },
  {
   "cell_type": "markdown",
   "id": "507a2f83-0d65-4ce2-8a28-5130240086a6",
   "metadata": {},
   "source": [
    "## Center diffraction patterns"
   ]
  },
  {
   "cell_type": "code",
   "execution_count": null,
   "id": "dd44eb6e-1fb9-4a74-bbcf-68f12fa87924",
   "metadata": {
    "editable": true,
    "slideshow": {
     "slide_type": ""
    },
    "tags": []
   },
   "outputs": [],
   "source": [
    "s_shifts = signal.get_direct_beam_position(method=\"blur\", sigma=5, half_square_width=20)"
   ]
  },
  {
   "cell_type": "code",
   "execution_count": null,
   "id": "394643f8-f16f-4fa0-a8e5-94c9f2394255",
   "metadata": {},
   "outputs": [],
   "source": [
    "s_shifts.compute()"
   ]
  },
  {
   "cell_type": "code",
   "execution_count": null,
   "id": "e34b7824-71c6-4b8b-a86e-80874cd07609",
   "metadata": {},
   "outputs": [],
   "source": [
    "s_linear_plane = s_shifts.get_linear_plane()"
   ]
  },
  {
   "cell_type": "code",
   "execution_count": null,
   "id": "c820d7c2-f807-4ffb-82ec-1f46a1517cce",
   "metadata": {},
   "outputs": [],
   "source": [
    "s_linear_plane.plot();"
   ]
  },
  {
   "cell_type": "code",
   "execution_count": null,
   "id": "8e799366-955e-49fc-82a6-ef679e619495",
   "metadata": {},
   "outputs": [],
   "source": [
    "signal.center_direct_beam(shifts=s_linear_plane, inplace=True)"
   ]
  },
  {
   "cell_type": "code",
   "execution_count": null,
   "id": "00fc22d7-70fe-4f19-9aef-17740a7d4806",
   "metadata": {},
   "outputs": [],
   "source": [
    "signal.plot(cmap=\"magma_r\", gamma=0.5)"
   ]
  },
  {
   "cell_type": "markdown",
   "id": "99a73a09-81bf-4f1f-9460-d28eae797bad",
   "metadata": {},
   "source": [
    "## Calibrate dataset"
   ]
  },
  {
   "cell_type": "code",
   "execution_count": null,
   "id": "4437a26b-48f9-4c8b-ad02-d38b92c07d62",
   "metadata": {
    "editable": true,
    "slideshow": {
     "slide_type": ""
    },
    "tags": []
   },
   "outputs": [],
   "source": [
    "# Calibrate navigation axes\n",
    "signal.axes_manager[0].name = \"x\"\n",
    "signal.axes_manager[0].scale = 3.704\n",
    "signal.axes_manager[0].units = \"nm\"\n",
    "signal.axes_manager[1].name = \"y\"\n",
    "signal.axes_manager[1].scale = 3.704\n",
    "signal.axes_manager[1].units = \"nm\"\n",
    "signal.set_diffraction_calibration(0.013388)"
   ]
  },
  {
   "cell_type": "code",
   "execution_count": null,
   "id": "9679976b-a3a4-41dc-b993-143895570445",
   "metadata": {},
   "outputs": [],
   "source": [
    "signal.plot(cmap=\"magma_r\", gamma=0.5, scalebar_color=\"k\")"
   ]
  },
  {
   "cell_type": "markdown",
   "id": "1e90f3fc-01a0-459c-b857-b3aa0b5a911d",
   "metadata": {},
   "source": [
    "## Crop dataset"
   ]
  },
  {
   "cell_type": "code",
   "execution_count": null,
   "id": "4782b6a1-01dc-434b-9cc4-f4cdc08bf93a",
   "metadata": {},
   "outputs": [],
   "source": [
    "signal2 = signal.inav[:, 10:20]"
   ]
  },
  {
   "cell_type": "code",
   "execution_count": null,
   "id": "a4c9e7fb-c90b-435d-8629-0ffbb76bf75c",
   "metadata": {},
   "outputs": [],
   "source": [
    "signal2"
   ]
  },
  {
   "cell_type": "code",
   "execution_count": null,
   "id": "379c072e-df4a-41e5-a6ad-7b4bc8f568e1",
   "metadata": {},
   "outputs": [],
   "source": [
    "signal2.compute()"
   ]
  },
  {
   "cell_type": "code",
   "execution_count": null,
   "id": "8bb2fe4e-08ab-46d8-a3d9-cd12ce0c07fd",
   "metadata": {},
   "outputs": [],
   "source": [
    "signal2.plot(cmap=\"magma_r\", gamma=0.5, scalebar_color=\"k\")"
   ]
  },
  {
   "cell_type": "markdown",
   "id": "c8f2910a-f982-414a-b970-94333daf7eeb",
   "metadata": {},
   "source": [
    "## Background subtraction"
   ]
  },
  {
   "cell_type": "code",
   "execution_count": null,
   "id": "0574792e-b45b-48d8-90b5-2b5e10867608",
   "metadata": {},
   "outputs": [],
   "source": [
    "signal2.change_dtype(\"u2\")"
   ]
  },
  {
   "cell_type": "code",
   "execution_count": null,
   "id": "5dfbf7fb-8aa6-40c9-8ce1-465d112e6422",
   "metadata": {},
   "outputs": [],
   "source": [
    "# Transform to polar coordinates\n",
    "pol = signal2.get_azimuthal_integral2d(\n",
    "    npt=100,        # Number of pixels in the radial direction\n",
    "    npt_azim=360,   # Number of pixels in the azimuthal direction\n",
    "    mean=False,      # Calculate mean intensity of each pixel\n",
    ")"
   ]
  },
  {
   "cell_type": "code",
   "execution_count": null,
   "id": "ac8c38e0-87f8-4dee-bf6d-2d55a87eb3db",
   "metadata": {},
   "outputs": [],
   "source": [
    "pol.plot(cmap=\"magma_r\", gamma=0.5)"
   ]
  },
  {
   "cell_type": "code",
   "execution_count": null,
   "id": "6f35501b-d996-42de-a867-d887e3f26d2a",
   "metadata": {},
   "outputs": [],
   "source": [
    "pol.subtract_diffraction_background(\n",
    "    method=\"radial median\", # Which background subtraction method to use. Different methods are available for polar and cartesian datasets\n",
    "    inplace=True,           # Whether to modify the data in-place or return a modified copy\n",
    "    )"
   ]
  },
  {
   "cell_type": "code",
   "execution_count": null,
   "id": "3c65127b-47f5-4a5d-a444-8fa848f1c357",
   "metadata": {},
   "outputs": [],
   "source": [
    "pol"
   ]
  },
  {
   "cell_type": "code",
   "execution_count": null,
   "id": "29fbbdfc-3afe-4f7f-b069-64a329af9b21",
   "metadata": {},
   "outputs": [],
   "source": [
    "pol.plot(cmap=\"magma_r\", gamma=0.5)"
   ]
  },
  {
   "cell_type": "markdown",
   "id": "87857e6f-bd7e-4eb0-bce7-1968194c8e82",
   "metadata": {},
   "source": [
    "## Template library"
   ]
  },
  {
   "cell_type": "code",
   "execution_count": null,
   "id": "e49e9e71-b8a6-4dc7-86ee-6d0154be3306",
   "metadata": {},
   "outputs": [],
   "source": [
    "# Graphite orientations\n",
    "angular_resolution = 1\n",
    "graphite = Phase.from_cif(\"graphite.cif\")\n",
    "graphite.name = \"Graphite\"\n",
    "graphite.color = \"tab:orange\"\n",
    "grots = get_sample_reduced_fundamental(\n",
    "    angular_resolution,             # Resolution of euler angles, in degrees\n",
    "    point_group=graphite.point_group,  # Symmetry of the orientations\n",
    "    )\n",
    "grots.size"
   ]
  },
  {
   "cell_type": "code",
   "execution_count": null,
   "id": "dca726f3-2f07-4ef8-902a-74aaf9517fb9",
   "metadata": {},
   "outputs": [],
   "source": [
    "# Ferrite orientations\n",
    "angular_resolution = 1\n",
    "ferrite = Phase.from_cif(\"Fe_ferrite.cif\")\n",
    "ferrite.name = \"Ferrite\"\n",
    "ferrite.color = \"tab:blue\"\n",
    "frots = get_sample_reduced_fundamental(\n",
    "    angular_resolution,             # Resolution of euler angles, in degrees\n",
    "    point_group=ferrite.point_group,  # Symmetry of the orientations\n",
    "    )\n",
    "frots.size"
   ]
  },
  {
   "cell_type": "code",
   "execution_count": null,
   "id": "32436df2-c825-417f-a371-f8a4b47a5916",
   "metadata": {},
   "outputs": [],
   "source": [
    "graphite.structure"
   ]
  },
  {
   "cell_type": "code",
   "execution_count": null,
   "id": "602baec2-3734-4129-8fed-a8d8499b2664",
   "metadata": {},
   "outputs": [],
   "source": [
    "Orientation(grots, symmetry=graphite.point_group).scatter(\"ipf\")\n",
    "Orientation(frots, symmetry=ferrite.point_group).scatter(\"ipf\")"
   ]
  },
  {
   "cell_type": "code",
   "execution_count": null,
   "id": "540aa6d1-faa6-4d99-8506-eefead123cf4",
   "metadata": {},
   "outputs": [],
   "source": [
    "gen = SimulationGenerator(\n",
    "    accelerating_voltage=200,\n",
    "    minimum_intensity=1e-3,    # The minimum intensity to keep, lower intensity reflections are discarded\n",
    "    precession_angle=0,         # The precession angle in degrees.\n",
    "    approximate_precession=True,# Lorentzian approximation of precession, as described in https://doi.org/10.1107/S2052520619007534\n",
    "    )"
   ]
  },
  {
   "cell_type": "code",
   "execution_count": null,
   "id": "ce7fd861-92f3-47e1-8ec9-4e3fb812dd89",
   "metadata": {},
   "outputs": [],
   "source": [
    "# Simulate diffraction patterns\n",
    "simulations = gen.calculate_diffraction2d(\n",
    "    phase=[ferrite, graphite],                # Which phase(s) to simulate for\n",
    "    rotation=[frots, grots],              # Which orientations to simulate for. Can be multiple instances corresponding to multiple phases\n",
    "    reciprocal_radius=1.7,      # Max radius to consider, in reciprocal Ångström\n",
    "    with_direct_beam=False,     # Whether to include the direct beam in simulations\n",
    "    max_excitation_error=0.04,  # Maximal excitation error s, in reciprocal Ångström, used for rel-rod length\n",
    "    )"
   ]
  },
  {
   "cell_type": "code",
   "execution_count": null,
   "id": "8d83fff4-b10b-4a8c-b835-093f2b2cf0f6",
   "metadata": {},
   "outputs": [],
   "source": [
    "simulations.plot(size_factor=15);"
   ]
  },
  {
   "cell_type": "markdown",
   "id": "0a4b3e5f-fdbb-4678-97a0-583ecac3323a",
   "metadata": {},
   "source": [
    "## Template matching (graphite only)"
   ]
  },
  {
   "cell_type": "code",
   "execution_count": null,
   "id": "741f8ab3-b06e-4fc9-9565-21f29c13d6c5",
   "metadata": {
    "editable": true,
    "slideshow": {
     "slide_type": ""
    },
    "tags": []
   },
   "outputs": [],
   "source": [
    "# apply gamma (sometimes useful)\n",
    "pol_gamma = pol**0.5"
   ]
  },
  {
   "cell_type": "code",
   "execution_count": null,
   "id": "4426dc57-3e6b-4c6e-8f93-2facfe1078d5",
   "metadata": {},
   "outputs": [],
   "source": [
    "simulations.phases"
   ]
  },
  {
   "cell_type": "code",
   "execution_count": null,
   "id": "5ebb28d7-a0bb-4ada-9ff7-3d24a685518a",
   "metadata": {
    "editable": true,
    "slideshow": {
     "slide_type": ""
    },
    "tags": []
   },
   "outputs": [],
   "source": [
    "orimap = pol_gamma.get_orientation(\n",
    "    simulations.iphase[1],    # The simulation bank\n",
    "    frac_keep=1.0,  # Control the fraction of the template bank used in full correlation.\n",
    "    )"
   ]
  },
  {
   "cell_type": "markdown",
   "id": "f526bef3-6d2a-4f56-b43e-8bc9f967c5ad",
   "metadata": {},
   "source": [
    "### Orientation map (graphite)"
   ]
  },
  {
   "cell_type": "code",
   "execution_count": null,
   "id": "0ece2595-74e2-4024-b295-16b98b722f00",
   "metadata": {},
   "outputs": [],
   "source": [
    "orimap.plot_over_signal(signal2, cmap=\"magma_r\", gamma=0.5)"
   ]
  },
  {
   "cell_type": "code",
   "execution_count": null,
   "id": "e8d025cc-de4b-4d01-a405-528c3a58dbd7",
   "metadata": {
    "editable": true,
    "slideshow": {
     "slide_type": ""
    },
    "tags": []
   },
   "outputs": [],
   "source": [
    "oris = orimap.to_single_phase_orientations().squeeze()"
   ]
  },
  {
   "cell_type": "code",
   "execution_count": null,
   "id": "4cd74b92-dc59-45b4-ad15-71bf23cff76e",
   "metadata": {},
   "outputs": [],
   "source": [
    "graphite_color_key = plot.IPFColorKeyTSL(graphite.point_group, direction=Vector3d.zvector())"
   ]
  },
  {
   "cell_type": "code",
   "execution_count": null,
   "id": "74f4a4b9-ec49-468d-9755-55eb0dac04ec",
   "metadata": {},
   "outputs": [],
   "source": [
    "graphite_color_key.plot()"
   ]
  },
  {
   "cell_type": "code",
   "execution_count": null,
   "id": "ebe56ea9-576b-4ed9-a945-344eb9e3b5e5",
   "metadata": {
    "editable": true,
    "slideshow": {
     "slide_type": ""
    },
    "tags": []
   },
   "outputs": [],
   "source": [
    "graphite_colors = graphite_color_key.orientation2color(oris)"
   ]
  },
  {
   "cell_type": "code",
   "execution_count": null,
   "id": "1cd62ee3-346a-4f66-a337-06b713ad6033",
   "metadata": {},
   "outputs": [],
   "source": [
    "graphite_colors.shape"
   ]
  },
  {
   "cell_type": "code",
   "execution_count": null,
   "id": "159d2496-5b0e-4587-87b4-7749ebe250e5",
   "metadata": {
    "editable": true,
    "slideshow": {
     "slide_type": ""
    },
    "tags": []
   },
   "outputs": [],
   "source": [
    "fig, axs = plt.subplots()\n",
    "axs.set_title(\"no gamma\")\n",
    "axs.imshow(graphite_colors)"
   ]
  },
  {
   "cell_type": "markdown",
   "id": "684cb1ee-3b30-4bb8-aba9-7fc94ca3de2e",
   "metadata": {
    "editable": true,
    "slideshow": {
     "slide_type": ""
    },
    "tags": []
   },
   "source": [
    "### CrystalMap (graphite)"
   ]
  },
  {
   "cell_type": "code",
   "execution_count": null,
   "id": "d75a67f4-f4d7-448f-8994-170b72126e2e",
   "metadata": {},
   "outputs": [],
   "source": [
    "xmap = orimap.to_crystal_map()"
   ]
  },
  {
   "cell_type": "code",
   "execution_count": null,
   "id": "2cbcc917-2fb2-44a1-8b1f-c5b0998489ad",
   "metadata": {},
   "outputs": [],
   "source": [
    "xmap"
   ]
  },
  {
   "cell_type": "code",
   "execution_count": null,
   "id": "a60f25cb-79f3-4170-8591-8f8a34a6d232",
   "metadata": {},
   "outputs": [],
   "source": [
    "xmap.plot()"
   ]
  },
  {
   "cell_type": "code",
   "execution_count": null,
   "id": "7fbcadad-ad75-435b-a355-e7f0ba88fade",
   "metadata": {},
   "outputs": [],
   "source": [
    "graphite_colors = graphite_color_key.orientation2color(xmap[\"Graphite\"].orientations)"
   ]
  },
  {
   "cell_type": "code",
   "execution_count": null,
   "id": "a26f06b3-391a-4c3b-bc14-6dd17aff5211",
   "metadata": {},
   "outputs": [],
   "source": [
    "graphite_colors.shape"
   ]
  },
  {
   "cell_type": "code",
   "execution_count": null,
   "id": "b401b96a-5899-4b31-855d-005430c8996f",
   "metadata": {},
   "outputs": [],
   "source": [
    "xmap[\"Graphite\"].plot(graphite_colors[:,0,:])"
   ]
  },
  {
   "cell_type": "code",
   "execution_count": null,
   "id": "574dc7bc-901f-4212-a68c-33594ea8fe92",
   "metadata": {},
   "outputs": [],
   "source": [
    "io.save(filename=\"only_graphite_indexed.h5\", object2write=xmap)"
   ]
  },
  {
   "cell_type": "markdown",
   "id": "1f5782b0-3acb-48ee-bd8d-ceacea7b21ba",
   "metadata": {},
   "source": [
    "### Find zone axis"
   ]
  },
  {
   "cell_type": "code",
   "execution_count": null,
   "id": "d3fa4e70-e904-4f53-b10a-c8a12bdfd6fa",
   "metadata": {},
   "outputs": [],
   "source": [
    "rot1 = orimap.inav[30,5].to_rotation()  # graphite (blue)"
   ]
  },
  {
   "cell_type": "code",
   "execution_count": null,
   "id": "41ef60d9-547f-4bb5-bf3a-b3b558c99106",
   "metadata": {},
   "outputs": [],
   "source": [
    "rot1.to_euler(degrees=True)"
   ]
  },
  {
   "cell_type": "code",
   "execution_count": null,
   "id": "883660eb-7f93-4bf9-b955-d7cb0211233b",
   "metadata": {},
   "outputs": [],
   "source": [
    "zavec = Orientation(rot1, graphite.point_group) * Vector3d.zvector()"
   ]
  },
  {
   "cell_type": "code",
   "execution_count": null,
   "id": "e3f00bad-da02-414a-a270-b1ff75bfdee7",
   "metadata": {},
   "outputs": [],
   "source": [
    "za = Miller(xyz=zavec.data, phase=graphite)\n",
    "za.coordinate_format=\"UVTW\"\n",
    "za.round()"
   ]
  },
  {
   "cell_type": "markdown",
   "id": "94d0fdda-5256-40d8-9b18-aa2afd72c973",
   "metadata": {},
   "source": [
    "## Template matching, 2 phases"
   ]
  },
  {
   "cell_type": "code",
   "execution_count": null,
   "id": "44670db3-37bf-440e-9a95-fa5f5632fce4",
   "metadata": {
    "scrolled": true
   },
   "outputs": [],
   "source": [
    "# Might need to be run twice to work correctly\n",
    "borimap = pol_gamma.get_orientation(\n",
    "    simulations,    # The simulation bank\n",
    "    frac_keep=1.0,  # Control the fraction of the template bank used in full correlation.\n",
    "    )"
   ]
  },
  {
   "cell_type": "code",
   "execution_count": null,
   "id": "4500b642-adcd-4131-8c85-17ada5360879",
   "metadata": {},
   "outputs": [],
   "source": [
    "borimap.compute()"
   ]
  },
  {
   "cell_type": "markdown",
   "id": "b357711e-4e11-46be-81a2-8468eebc5f3e",
   "metadata": {},
   "source": [
    "### CrystalMap (2 phases)"
   ]
  },
  {
   "cell_type": "code",
   "execution_count": null,
   "id": "885d0545-40f2-4d7b-8c1e-26ecdc96cc8e",
   "metadata": {},
   "outputs": [],
   "source": [
    "xmap2 = borimap.to_crystal_map()"
   ]
  },
  {
   "cell_type": "code",
   "execution_count": null,
   "id": "60575be0-634e-4bba-9faf-72cb0f02ee70",
   "metadata": {},
   "outputs": [],
   "source": [
    "xmap2"
   ]
  },
  {
   "cell_type": "code",
   "execution_count": null,
   "id": "51be5537-5619-459d-b91b-fc338b248252",
   "metadata": {},
   "outputs": [],
   "source": [
    "xmap2.plot()"
   ]
  },
  {
   "cell_type": "code",
   "execution_count": null,
   "id": "2ef9536c-45e8-4ac3-bfbe-ffd4198b892f",
   "metadata": {},
   "outputs": [],
   "source": [
    "graphite_color_key = plot.IPFColorKeyTSL(graphite.point_group, direction=Vector3d.zvector())\n",
    "ferrite_color_key = plot.IPFColorKeyTSL(ferrite.point_group, direction=Vector3d.zvector())"
   ]
  },
  {
   "cell_type": "code",
   "execution_count": null,
   "id": "60df7635-9a68-42d0-9e91-796890d59638",
   "metadata": {},
   "outputs": [],
   "source": [
    "ferrite_colors = ferrite_color_key.orientation2color(xmap2[\"Ferrite\"].orientations)\n",
    "graphite_colors = graphite_color_key.orientation2color(xmap2[\"Graphite\"].orientations)"
   ]
  },
  {
   "cell_type": "code",
   "execution_count": null,
   "id": "f95f92b7-1113-43e2-ae44-917210d23b64",
   "metadata": {},
   "outputs": [],
   "source": [
    "xmap2[\"Ferrite\"].plot(ferrite_colors[:,0,:])\n",
    "xmap2[\"Graphite\"].plot(graphite_colors[:,0,:])"
   ]
  },
  {
   "cell_type": "code",
   "execution_count": null,
   "id": "0023d90f-ac57-4e7a-83b6-3d852a72e14a",
   "metadata": {},
   "outputs": [],
   "source": []
  }
 ],
 "metadata": {
  "kernelspec": {
   "display_name": "pyxem0.19.1",
   "language": "python",
   "name": "pyxem0.19.1"
  },
  "language_info": {
   "codemirror_mode": {
    "name": "ipython",
    "version": 3
   },
   "file_extension": ".py",
   "mimetype": "text/x-python",
   "name": "python",
   "nbconvert_exporter": "python",
   "pygments_lexer": "ipython3",
   "version": "3.11.9"
  }
 },
 "nbformat": 4,
 "nbformat_minor": 5
}
