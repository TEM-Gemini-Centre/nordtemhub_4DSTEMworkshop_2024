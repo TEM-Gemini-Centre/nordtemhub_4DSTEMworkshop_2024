{
 "cells": [
  {
   "cell_type": "code",
   "execution_count": null,
   "id": "085711e4-f885-402f-966e-1f0a3e5e7312",
   "metadata": {},
   "outputs": [],
   "source": [
    "%matplotlib qt5"
   ]
  },
  {
   "cell_type": "code",
   "execution_count": null,
   "id": "be0f15ee-8295-4b2b-8804-fb75db46d532",
   "metadata": {},
   "outputs": [],
   "source": [
    "import zarr"
   ]
  },
  {
   "cell_type": "code",
   "execution_count": null,
   "id": "a127606d-b615-4869-8247-a5a798e8fc4d",
   "metadata": {},
   "outputs": [],
   "source": [
    "import hyperspy.api as hs"
   ]
  },
  {
   "cell_type": "markdown",
   "id": "f71a35f1-e122-4c8c-b0cd-8f19326bec7f",
   "metadata": {},
   "source": [
    "## Loading data\n",
    "\n",
    "Paper sample and data: https://doi.org/10.1016/j.ultramic.2021.113296\n",
    "\n",
    "The full dataset and scripts: https://doi.org/10.5281/zenodo.4061715"
   ]
  },
  {
   "cell_type": "code",
   "execution_count": null,
   "id": "659f65fe-c314-4234-b9d3-c02fd247a946",
   "metadata": {},
   "outputs": [],
   "source": [
    "store = zarr.ZipStore(\"atomic_resolution_holz_data.zspy\")"
   ]
  },
  {
   "cell_type": "code",
   "execution_count": null,
   "id": "100ce761-1be4-4f75-ae77-4d49d01eae94",
   "metadata": {},
   "outputs": [],
   "source": [
    "s = hs.load(store, lazy=True)"
   ]
  },
  {
   "cell_type": "code",
   "execution_count": null,
   "id": "257c5c64-7ce9-4aad-b715-97a5ba3d06c3",
   "metadata": {},
   "outputs": [],
   "source": [
    "s"
   ]
  },
  {
   "cell_type": "markdown",
   "id": "bdbac938-ef75-4618-96f8-91dfb8219ee8",
   "metadata": {},
   "source": [
    "## HOLZ analysis"
   ]
  },
  {
   "cell_type": "code",
   "execution_count": null,
   "id": "0d66ffa1-6d52-4b5b-b711-e275d5632945",
   "metadata": {},
   "outputs": [],
   "source": [
    "s.plot(norm=\"symlog\")"
   ]
  },
  {
   "cell_type": "code",
   "execution_count": null,
   "id": "7b323f90-d259-4dea-8022-a0770c3943bd",
   "metadata": {},
   "outputs": [],
   "source": [
    "s.T.plot()"
   ]
  },
  {
   "cell_type": "markdown",
   "id": "7fdf9b55-0dfd-408d-9a35-4135aaccd567",
   "metadata": {},
   "source": [
    "## Azimuthal integration"
   ]
  },
  {
   "cell_type": "code",
   "execution_count": null,
   "id": "01dcfbf1-4d1e-4a1b-95bf-113ba5a82edc",
   "metadata": {},
   "outputs": [],
   "source": [
    "s.plot()"
   ]
  },
  {
   "cell_type": "code",
   "execution_count": null,
   "id": "ed567fdd-4845-45fd-8819-97b55772f256",
   "metadata": {},
   "outputs": [],
   "source": [
    "s.calibration(center=None)"
   ]
  },
  {
   "cell_type": "code",
   "execution_count": null,
   "id": "d1241ef0-f031-4fe7-945e-406f7ad9aa95",
   "metadata": {},
   "outputs": [],
   "source": [
    "s.axes_manager"
   ]
  },
  {
   "cell_type": "code",
   "execution_count": null,
   "id": "f784b6b5-912a-45ed-aa71-b5b3221f910b",
   "metadata": {},
   "outputs": [],
   "source": [
    "s.plot()"
   ]
  },
  {
   "cell_type": "code",
   "execution_count": null,
   "id": "10909e87-328f-4beb-a295-c6bfeb573976",
   "metadata": {},
   "outputs": [],
   "source": [
    "s1d = s.get_azimuthal_integral1d(npt=100, inplace=False)"
   ]
  },
  {
   "cell_type": "code",
   "execution_count": null,
   "id": "e77556c5-f196-41c9-bd1c-55bc4799b742",
   "metadata": {},
   "outputs": [],
   "source": [
    "s1d.compute()"
   ]
  },
  {
   "cell_type": "code",
   "execution_count": null,
   "id": "e659b6bc-34c4-4008-be4c-7b42459b771e",
   "metadata": {},
   "outputs": [],
   "source": [
    "s1d.plot()"
   ]
  },
  {
   "cell_type": "code",
   "execution_count": null,
   "id": "be047668-66bd-4579-8396-7f94fa8cf7ca",
   "metadata": {},
   "outputs": [],
   "source": [
    "hs.plot.plot_roi_map(s1d)"
   ]
  },
  {
   "cell_type": "code",
   "execution_count": null,
   "id": "821e84eb-b7ca-4402-82e3-997987478eee",
   "metadata": {},
   "outputs": [],
   "source": [
    "hs.plot.plot_roi_map(s1d, cmap=\"viridis\")"
   ]
  },
  {
   "cell_type": "markdown",
   "id": "0a10899b-c1e6-4a9f-97a8-fc1b0499ab7f",
   "metadata": {},
   "source": [
    "## Model fitting"
   ]
  },
  {
   "cell_type": "code",
   "execution_count": null,
   "id": "eed4610a-0b7c-4448-a97c-bbbabe3edca1",
   "metadata": {},
   "outputs": [],
   "source": [
    "s_holz = s1d.isig[48.:82.]"
   ]
  },
  {
   "cell_type": "code",
   "execution_count": null,
   "id": "afc71990-fafe-4dc2-8f1b-48dc06b452ec",
   "metadata": {},
   "outputs": [],
   "source": [
    "s_holz.plot()"
   ]
  },
  {
   "cell_type": "code",
   "execution_count": null,
   "id": "473076f7-4e7e-4a79-8390-76955691c886",
   "metadata": {},
   "outputs": [],
   "source": [
    "m_holz = s_holz.create_model()"
   ]
  },
  {
   "cell_type": "code",
   "execution_count": null,
   "id": "f343707e-db87-45b2-b145-e2accbd1b726",
   "metadata": {},
   "outputs": [],
   "source": [
    "powerlaw = hs.model.components1D.PowerLaw()"
   ]
  },
  {
   "cell_type": "code",
   "execution_count": null,
   "id": "3deee2b1-9e49-47ea-aa5d-c6726ec16373",
   "metadata": {},
   "outputs": [],
   "source": [
    "m_holz.append(powerlaw)"
   ]
  },
  {
   "cell_type": "code",
   "execution_count": null,
   "id": "a2136f10-f9d1-4914-b97e-2b047a64746e",
   "metadata": {},
   "outputs": [],
   "source": [
    "m_holz.plot()"
   ]
  },
  {
   "cell_type": "code",
   "execution_count": null,
   "id": "92d13896-f557-40bf-a805-5b239fa55ac4",
   "metadata": {},
   "outputs": [],
   "source": [
    "m_holz.set_signal_range(47., 53.)"
   ]
  },
  {
   "cell_type": "code",
   "execution_count": null,
   "id": "28dae9a5-0943-41f3-85c4-78ed2c68eb46",
   "metadata": {},
   "outputs": [],
   "source": [
    "m_holz.add_signal_range(78., None)"
   ]
  },
  {
   "cell_type": "code",
   "execution_count": null,
   "id": "4bf012a7-3641-4c84-a5fc-72507a8b040d",
   "metadata": {},
   "outputs": [],
   "source": [
    "m_holz.multifit()"
   ]
  },
  {
   "cell_type": "code",
   "execution_count": null,
   "id": "bd19ca04-005a-4d2b-9943-355cc5b87830",
   "metadata": {},
   "outputs": [],
   "source": [
    "m_holz.reset_signal_range()"
   ]
  },
  {
   "cell_type": "code",
   "execution_count": null,
   "id": "005d9e2f-4bca-4874-a747-299cbcd0e047",
   "metadata": {
    "scrolled": true
   },
   "outputs": [],
   "source": [
    "s_holz_pl = m_holz.as_signal()"
   ]
  },
  {
   "cell_type": "markdown",
   "id": "77849660-3441-4a18-87bb-8014b67807a8",
   "metadata": {},
   "source": [
    "## Getting inner HOLZ intensity"
   ]
  },
  {
   "cell_type": "code",
   "execution_count": null,
   "id": "c077b97d-4965-4a27-b84f-7747d4b4dc33",
   "metadata": {},
   "outputs": [],
   "source": [
    "s_holz_inner = s_holz - s_holz_pl"
   ]
  },
  {
   "cell_type": "code",
   "execution_count": null,
   "id": "bfc16bd0-c2df-4d4a-921e-ddd1efb81ccc",
   "metadata": {},
   "outputs": [],
   "source": [
    "s_holz_inner.plot()"
   ]
  },
  {
   "cell_type": "code",
   "execution_count": null,
   "id": "14b4a9cd-d4a9-4bb7-b5ea-3e0376170cc2",
   "metadata": {},
   "outputs": [],
   "source": [
    "s_temp = s_holz_inner.sum(axis=(-1))"
   ]
  },
  {
   "cell_type": "code",
   "execution_count": null,
   "id": "982674fb-faf2-443f-ae28-926cde318981",
   "metadata": {},
   "outputs": [],
   "source": [
    "s_temp"
   ]
  },
  {
   "cell_type": "code",
   "execution_count": null,
   "id": "5b6c30b4-0969-4316-82cf-599357f2a913",
   "metadata": {},
   "outputs": [],
   "source": [
    "s_holz_image = s_temp.T"
   ]
  },
  {
   "cell_type": "code",
   "execution_count": null,
   "id": "93e735d5-4683-4811-9bdc-8845ba51bab6",
   "metadata": {},
   "outputs": [],
   "source": [
    "s_holz_image.plot()"
   ]
  }
 ],
 "metadata": {
  "kernelspec": {
   "display_name": "Python 3 (ipykernel)",
   "language": "python",
   "name": "python3"
  },
  "language_info": {
   "codemirror_mode": {
    "name": "ipython",
    "version": 3
   },
   "file_extension": ".py",
   "mimetype": "text/x-python",
   "name": "python",
   "nbconvert_exporter": "python",
   "pygments_lexer": "ipython3",
   "version": "3.11.8"
  }
 },
 "nbformat": 4,
 "nbformat_minor": 5
}
