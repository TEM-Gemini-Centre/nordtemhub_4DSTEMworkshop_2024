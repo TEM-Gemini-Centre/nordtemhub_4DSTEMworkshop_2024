{
 "cells": [
  {
   "cell_type": "code",
   "execution_count": null,
   "id": "d0e0e773-2455-49c4-a3c3-c418202233ce",
   "metadata": {},
   "outputs": [],
   "source": [
    "%matplotlib qt5"
   ]
  },
  {
   "cell_type": "code",
   "execution_count": null,
   "id": "8300d167-f382-4cb8-a710-91aedca440e3",
   "metadata": {},
   "outputs": [],
   "source": [
    "import zarr"
   ]
  },
  {
   "cell_type": "code",
   "execution_count": null,
   "id": "b0a5fa74-7f77-463d-bb3f-6bc5551788c1",
   "metadata": {},
   "outputs": [],
   "source": [
    "import hyperspy.api as hs"
   ]
  },
  {
   "cell_type": "code",
   "execution_count": null,
   "id": "2223c393-82f3-4891-a732-1add040d9b01",
   "metadata": {},
   "outputs": [],
   "source": [
    "store = zarr.ZipStore(\"sped_cpu.zspy\")"
   ]
  },
  {
   "cell_type": "code",
   "execution_count": null,
   "id": "3d33a7df-77a6-4e99-9166-8b402d726ea2",
   "metadata": {},
   "outputs": [],
   "source": [
    "s = hs.load(store)"
   ]
  },
  {
   "cell_type": "code",
   "execution_count": null,
   "id": "3dc516df-2567-437f-a9aa-56bfe3bc3906",
   "metadata": {},
   "outputs": [],
   "source": [
    "s"
   ]
  },
  {
   "cell_type": "code",
   "execution_count": null,
   "id": "5ed92b13-9dad-41b6-bb9e-0e386115561f",
   "metadata": {},
   "outputs": [],
   "source": [
    "s.plot()"
   ]
  },
  {
   "cell_type": "markdown",
   "id": "e8ae8fbb-d412-4b5d-ae13-aa51d6b55945",
   "metadata": {},
   "source": [
    "## Region of interest"
   ]
  },
  {
   "cell_type": "code",
   "execution_count": null,
   "id": "8dd5fc75-68aa-4ec3-bb40-75a35b8897c9",
   "metadata": {},
   "outputs": [],
   "source": [
    "hs.plot.plot_roi_map(s)"
   ]
  },
  {
   "cell_type": "code",
   "execution_count": null,
   "id": "43c3d23d-313a-4691-b051-abc84125de05",
   "metadata": {},
   "outputs": [],
   "source": [
    "hs.roi.CircleROI?"
   ]
  },
  {
   "cell_type": "code",
   "execution_count": null,
   "id": "5462b248-7ea5-4a4a-b829-9021fef85ce6",
   "metadata": {},
   "outputs": [],
   "source": [
    "circ_roi0 = hs.roi.CircleROI()"
   ]
  },
  {
   "cell_type": "code",
   "execution_count": null,
   "id": "e84eaea8-d982-4f12-81fe-af8ef829aa13",
   "metadata": {},
   "outputs": [],
   "source": [
    "circ_roi1 = hs.roi.CircleROI()"
   ]
  },
  {
   "cell_type": "code",
   "execution_count": null,
   "id": "ff332118-26d5-4b80-999e-b93bd9c09076",
   "metadata": {},
   "outputs": [],
   "source": [
    "circ_roi1"
   ]
  },
  {
   "cell_type": "code",
   "execution_count": null,
   "id": "9dbbb466-b473-44f2-a35d-caa3df823485",
   "metadata": {},
   "outputs": [],
   "source": [
    "hs.plot.plot_roi_map(s, rois=(circ_roi0, circ_roi1))"
   ]
  },
  {
   "cell_type": "code",
   "execution_count": null,
   "id": "6e9219bc-e874-4c69-bb8c-1ad576d4067e",
   "metadata": {},
   "outputs": [],
   "source": [
    "hs.plot.plot_roi_map(s, rois=(circ_roi0, circ_roi1), cmap=(\"viridis\", \"inferno\"))"
   ]
  },
  {
   "cell_type": "code",
   "execution_count": null,
   "id": "0fe1e7c3-282d-4695-ba0a-adfb1476a3ce",
   "metadata": {},
   "outputs": [],
   "source": []
  }
 ],
 "metadata": {
  "kernelspec": {
   "display_name": "Python 3 (ipykernel)",
   "language": "python",
   "name": "python3"
  },
  "language_info": {
   "codemirror_mode": {
    "name": "ipython",
    "version": 3
   },
   "file_extension": ".py",
   "mimetype": "text/x-python",
   "name": "python",
   "nbconvert_exporter": "python",
   "pygments_lexer": "ipython3",
   "version": "3.11.9"
  }
 },
 "nbformat": 4,
 "nbformat_minor": 5
}
