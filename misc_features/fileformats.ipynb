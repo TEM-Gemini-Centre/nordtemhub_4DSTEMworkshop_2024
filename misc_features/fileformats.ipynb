{
 "cells": [
  {
   "cell_type": "code",
   "execution_count": null,
   "id": "5cfca727-ef9a-474a-a01b-e6e12f99d8f6",
   "metadata": {},
   "outputs": [],
   "source": [
    "%matplotlib qt5"
   ]
  },
  {
   "cell_type": "code",
   "execution_count": null,
   "id": "8c2a930d-82d9-4c1d-b3f3-5505352c1662",
   "metadata": {},
   "outputs": [],
   "source": [
    "import hyperspy.api as hs"
   ]
  },
  {
   "cell_type": "code",
   "execution_count": null,
   "id": "a45ed82c-f25b-4aea-ae9b-b0254038742d",
   "metadata": {},
   "outputs": [],
   "source": [
    "s = hs.load(\"FeAl_stripes.hspy\")"
   ]
  },
  {
   "cell_type": "markdown",
   "id": "fde12792-6ed9-4b82-bc41-2321f9f096ad",
   "metadata": {},
   "source": [
    "## Different file formats\n",
    "\n",
    "Large topic!"
   ]
  },
  {
   "cell_type": "markdown",
   "id": "a77a4453-4a27-4d40-b48c-e9b434104dd7",
   "metadata": {},
   "source": [
    "### Saving files"
   ]
  },
  {
   "cell_type": "code",
   "execution_count": null,
   "id": "766a2234-0ae5-4d95-aca2-f78402d3e7b9",
   "metadata": {},
   "outputs": [],
   "source": [
    "s.save(\"test0.hspy\", chunks=(32, 32, 32, 32))"
   ]
  },
  {
   "cell_type": "code",
   "execution_count": null,
   "id": "497da8e1-2457-47c7-805d-b2cc3ada3841",
   "metadata": {},
   "outputs": [],
   "source": [
    "s.save(\"test1.zspy\", chunks=(32, 32, 32, 32))"
   ]
  },
  {
   "cell_type": "markdown",
   "id": "3925cb75-90c1-469c-9894-1851d503d18f",
   "metadata": {},
   "source": [
    "Look at the files themselves.\n",
    "\n",
    "- `hspy`: hdf5, one file\n",
    "- `zspy`: folder structure, many files"
   ]
  },
  {
   "cell_type": "markdown",
   "id": "3a85a954-8174-4bc6-9eba-a2d124c39074",
   "metadata": {},
   "source": [
    "### Loading files"
   ]
  },
  {
   "cell_type": "code",
   "execution_count": null,
   "id": "8fe4bd8d-f219-4517-9237-55e376e9cd81",
   "metadata": {},
   "outputs": [],
   "source": [
    "s_hspy = hs.load(\"test0.hspy\", lazy=True)"
   ]
  },
  {
   "cell_type": "code",
   "execution_count": null,
   "id": "3418a2d9-6393-4607-965a-d40a6ad230cd",
   "metadata": {},
   "outputs": [],
   "source": [
    "s_zspy = hs.load(\"test1.zspy\", lazy=True)"
   ]
  },
  {
   "cell_type": "code",
   "execution_count": null,
   "id": "8ac6baa0-beb2-49e8-883c-eac7ee579122",
   "metadata": {},
   "outputs": [],
   "source": [
    "s_hspy.compute()"
   ]
  },
  {
   "cell_type": "code",
   "execution_count": null,
   "id": "99d5de28-ee2f-4324-9ffb-44974f04bd34",
   "metadata": {},
   "outputs": [],
   "source": [
    "s_zspy.compute()"
   ]
  },
  {
   "cell_type": "markdown",
   "id": "38315707-14e5-4176-8d0b-3fe1e67bd671",
   "metadata": {},
   "source": [
    "### ZipStore"
   ]
  },
  {
   "cell_type": "code",
   "execution_count": null,
   "id": "414aedc3-3569-4b63-b27e-e7d4ccb25d7f",
   "metadata": {},
   "outputs": [],
   "source": [
    "import zarr"
   ]
  },
  {
   "cell_type": "code",
   "execution_count": null,
   "id": "55de35a9-d3fc-457e-bff7-9da437a4c946",
   "metadata": {},
   "outputs": [],
   "source": [
    "store = zarr.ZipStore(\"test2.zspy\")"
   ]
  },
  {
   "cell_type": "code",
   "execution_count": null,
   "id": "5c9137f1-b4c0-4b5e-a2fb-5bff69b1c46d",
   "metadata": {},
   "outputs": [],
   "source": [
    "s.save(store, chunks=(32, 32, 32, 32))"
   ]
  },
  {
   "cell_type": "code",
   "execution_count": null,
   "id": "e74e382d-25d6-4ec6-8b4b-1ec70a40d627",
   "metadata": {},
   "outputs": [],
   "source": [
    "store_load = zarr.ZipStore(\"test2.zspy\")"
   ]
  },
  {
   "cell_type": "code",
   "execution_count": null,
   "id": "370d50ce-1b72-4a8a-bf68-0e970b1275e2",
   "metadata": {},
   "outputs": [],
   "source": [
    "s_zip = hs.load(store_load, lazy=True)"
   ]
  },
  {
   "cell_type": "code",
   "execution_count": null,
   "id": "3b95f26f-a525-428d-83d6-0eece5aa5e9b",
   "metadata": {},
   "outputs": [],
   "source": [
    "s_zip.compute()"
   ]
  }
 ],
 "metadata": {
  "kernelspec": {
   "display_name": "Python 3 (ipykernel)",
   "language": "python",
   "name": "python3"
  },
  "language_info": {
   "codemirror_mode": {
    "name": "ipython",
    "version": 3
   },
   "file_extension": ".py",
   "mimetype": "text/x-python",
   "name": "python",
   "nbconvert_exporter": "python",
   "pygments_lexer": "ipython3",
   "version": "3.11.9"
  }
 },
 "nbformat": 4,
 "nbformat_minor": 5
}
