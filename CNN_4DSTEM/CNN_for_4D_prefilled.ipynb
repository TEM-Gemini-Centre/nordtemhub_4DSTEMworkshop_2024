{
 "cells": [
  {
   "cell_type": "markdown",
   "id": "eb17bb56-317b-4fcb-94dd-6ebf920f8e23",
   "metadata": {},
   "source": [
    "<h1>Training a neural network for direct beam tracking</h1>\n",
    "\n",
    "This notebook demonstrates how to create a neural network for the tracking of direct beams in 4D-STEM data. The network are created with `PyTorch`, and are trained on an experimentally acquired 4D-STEM scan. The steps to pre-process and label data are demonstrated.\n",
    "\n",
    "\n",
    "<p style=\"text-align:center;\"><img src=\"Figures/part0.svg\" width=\"850\"></p>\n",
    "\n",
    "<br>\n",
    "<strong>Notebook presentation is part of the 2024 NordTEMhub workshop on (big) data analysis of 4D-STEM. NTNU Trondheim, 11.06.2024.</strong>"
   ]
  },
  {
   "cell_type": "markdown",
   "id": "9179e6d5-481b-4200-a73c-d431b4cc6134",
   "metadata": {},
   "source": [
    "<h2>1. Setup</h2>"
   ]
  },
  {
   "cell_type": "markdown",
   "id": "2383fb1b-86d7-4f7d-9000-05daca08a295",
   "metadata": {},
   "source": [
    "<h5>Interactive plotting magic</h5>"
   ]
  },
  {
   "cell_type": "code",
   "execution_count": null,
   "id": "aa9a1890-8566-4d6b-af92-f9083b3d8eeb",
   "metadata": {},
   "outputs": [],
   "source": [
    "%matplotlib qt"
   ]
  },
  {
   "cell_type": "markdown",
   "id": "e901843c-17a5-42e0-bd0c-acb5fd860428",
   "metadata": {},
   "source": [
    "<h5>Import necessary libraries</h5>"
   ]
  },
  {
   "cell_type": "code",
   "execution_count": null,
   "id": "f5148f07-551f-4e28-80b7-50676f0f8a87",
   "metadata": {},
   "outputs": [],
   "source": [
    "import torch\n",
    "import numpy as np\n",
    "import matplotlib.pyplot as plt\n",
    "import hyperspy.api as hs\n",
    "import pyxem as pxm\n",
    "from scipy.ndimage import center_of_mass, gaussian_filter\n",
    "\n",
    "from torch.nn.functional import relu"
   ]
  },
  {
   "cell_type": "markdown",
   "id": "6bd75885-ab99-48c2-81dc-9d1d48a621f2",
   "metadata": {},
   "source": [
    "<h5>Import Python script with useful functions</h5>"
   ]
  },
  {
   "cell_type": "code",
   "execution_count": null,
   "id": "7913afca-9c86-4bbc-8fde-1d0d7c185338",
   "metadata": {},
   "outputs": [],
   "source": [
    "import nn_utility"
   ]
  },
  {
   "cell_type": "markdown",
   "id": "92f1e58e-472a-4256-97a3-bd3c6269eb6b",
   "metadata": {},
   "source": [
    "<h5> Make the outputs deterministic </h5>"
   ]
  },
  {
   "cell_type": "code",
   "execution_count": null,
   "id": "05967589-9eb8-4c89-8fd2-642cc523c127",
   "metadata": {},
   "outputs": [],
   "source": [
    "torch.backends.cpu.benchmark = True\n",
    "np.random.seed(0)\n",
    "torch.manual_seed(0)"
   ]
  },
  {
   "cell_type": "markdown",
   "id": "a5cb4893-7ddf-4853-91c2-d335efe2e4bd",
   "metadata": {},
   "source": [
    "<h5> Set neural network device to run on</h5>"
   ]
  },
  {
   "cell_type": "code",
   "execution_count": null,
   "id": "9a3cd555-942c-4e18-b92e-a7039365fc7d",
   "metadata": {},
   "outputs": [],
   "source": [
    "device = torch.device('cpu')"
   ]
  },
  {
   "cell_type": "code",
   "execution_count": null,
   "id": "4927ee5a-d875-4035-8f3b-2a7d61213319",
   "metadata": {},
   "outputs": [],
   "source": [
    "device"
   ]
  },
  {
   "cell_type": "markdown",
   "id": "ce723e6c-2cd4-4378-956c-caa0c21ab66d",
   "metadata": {},
   "source": [
    "<h2>2. Build the neural network</h2>"
   ]
  },
  {
   "cell_type": "markdown",
   "id": "03181227-c86b-4942-927d-7fbbacb5ea25",
   "metadata": {},
   "source": [
    "<p><img src=\"Figures/part2.svg\" width=\"700\"></p>"
   ]
  },
  {
   "cell_type": "code",
   "execution_count": null,
   "id": "c147c9ec-d3c7-41cc-8b1e-eed726e07c12",
   "metadata": {},
   "outputs": [],
   "source": [
    "class Network(torch.nn.Module):\n",
    "    def __init__(self):\n",
    "        super(Network, self).__init__()\n",
    "        self.pool = torch.nn.MaxPool2d(2, 2)\n",
    "        self.conv1 = torch.nn.Conv2d(1, 16, 5)\n",
    "        self.conv2 = torch.nn.Conv2d(16, 32, 5)\n",
    "        self.fc1 = torch.nn.Linear(32*29*29, 120)\n",
    "        self.fc2 = torch.nn.Linear(120, 2)\n",
    "        \n",
    "    def forward(self, x):\n",
    "        x = self.conv1(x)\n",
    "        x = relu(x)\n",
    "        x = self.pool(x)\n",
    "        \n",
    "        x = self.pool(relu(self.conv2(x)))\n",
    "        x = torch.flatten(x, 1)\n",
    "        x = relu(self.fc1(x))\n",
    "        x = self.fc2(x)\n",
    "        \n",
    "        return x"
   ]
  },
  {
   "cell_type": "markdown",
   "id": "f9d26687-1c7e-4cce-86a5-6f9709de2432",
   "metadata": {},
   "source": [
    "<h5>Initialize the model</h5>"
   ]
  },
  {
   "cell_type": "code",
   "execution_count": null,
   "id": "3b28a541-5a83-40ba-ae74-955c3fa65354",
   "metadata": {},
   "outputs": [],
   "source": [
    "model = Network()"
   ]
  },
  {
   "cell_type": "markdown",
   "id": "2b89a72b-a5c1-476c-aeee-f3c01450ad08",
   "metadata": {},
   "source": [
    "<h5>Set model device and inspect initialization</h5>"
   ]
  },
  {
   "cell_type": "code",
   "execution_count": null,
   "id": "d35b473c-30ea-4d35-a6d3-5399176fd826",
   "metadata": {},
   "outputs": [],
   "source": [
    "model = model.to(device)"
   ]
  },
  {
   "cell_type": "code",
   "execution_count": null,
   "id": "2ee0cb45-21f6-462f-bda6-f8cbc0e17a2a",
   "metadata": {
    "scrolled": true
   },
   "outputs": [],
   "source": [
    "model.state_dict()"
   ]
  },
  {
   "cell_type": "markdown",
   "id": "b7cbdbcc-7087-4ad5-aaa5-b61ea10385be",
   "metadata": {},
   "source": [
    "<h2>3. Create training data</h2>"
   ]
  },
  {
   "cell_type": "markdown",
   "id": "b6fe8914-f810-4609-856c-d88353b6e294",
   "metadata": {},
   "source": [
    "<h5>Load and inspect the 4D-STEM dataset</h5>"
   ]
  },
  {
   "cell_type": "code",
   "execution_count": null,
   "id": "957d39b4-8362-4763-bc51-ceab3af75059",
   "metadata": {},
   "outputs": [],
   "source": [
    "s = hs.load('FeAl_stripes.hspy', lazy=False)"
   ]
  },
  {
   "cell_type": "code",
   "execution_count": null,
   "id": "0b07713c-ee88-4d1e-ad0d-8420dd642c9c",
   "metadata": {},
   "outputs": [],
   "source": [
    "s.plot()"
   ]
  },
  {
   "cell_type": "markdown",
   "id": "0db66035-a8d6-4f91-9f40-db99d2b049d4",
   "metadata": {},
   "source": [
    "<h5>Extract regions for training data</h5>"
   ]
  },
  {
   "cell_type": "code",
   "execution_count": null,
   "id": "84a91b79-dc4a-4e7f-a463-28dfa163d521",
   "metadata": {},
   "outputs": [],
   "source": [
    "s1 = s.inav[59:79, 72:92].data.reshape(20*20, 128, 128)\n",
    "s2 = s.inav[165:205, 55:95].data.reshape(40*40, 128, 128)"
   ]
  },
  {
   "cell_type": "code",
   "execution_count": null,
   "id": "816b1607-07c7-4630-bc7b-94f38ea7e525",
   "metadata": {},
   "outputs": [],
   "source": [
    "training_data = np.concatenate([s1, s2], axis=0)#.compute()"
   ]
  },
  {
   "cell_type": "code",
   "execution_count": null,
   "id": "2a1cde2b-e587-4ab7-bea4-8ed17d6fdfd8",
   "metadata": {},
   "outputs": [],
   "source": [
    "training_data.shape"
   ]
  },
  {
   "cell_type": "code",
   "execution_count": null,
   "id": "b7216001-d173-467d-81d4-cdca4722596e",
   "metadata": {},
   "outputs": [],
   "source": [
    "shape = training_data.shape[0]"
   ]
  },
  {
   "cell_type": "markdown",
   "id": "db5f2467-32c8-45a8-b705-382e8b59e842",
   "metadata": {},
   "source": [
    "<h5>Divide the training data into training and validation sets</h5>"
   ]
  },
  {
   "cell_type": "code",
   "execution_count": null,
   "id": "3d4d13b8-1012-45b8-8a13-9142b48b64b3",
   "metadata": {},
   "outputs": [],
   "source": [
    "rand_indx = np.random.choice(shape, size=int(shape * 0.15), replace=False)"
   ]
  },
  {
   "cell_type": "code",
   "execution_count": null,
   "id": "3ecd9dd3-ea02-4cc7-95c1-5aeda1111b57",
   "metadata": {
    "scrolled": true
   },
   "outputs": [],
   "source": [
    "rand_indx"
   ]
  },
  {
   "cell_type": "code",
   "execution_count": null,
   "id": "e3fd32aa-f8fa-4074-aaca-1394bbaaa3fb",
   "metadata": {},
   "outputs": [],
   "source": [
    "valid_set = hs.signals.Signal2D(training_data[rand_indx])"
   ]
  },
  {
   "cell_type": "code",
   "execution_count": null,
   "id": "b98975ba-d16f-4662-9c9c-a838cf586293",
   "metadata": {},
   "outputs": [],
   "source": [
    "rem_indx = np.setdiff1d(np.arange(shape), rand_indx)"
   ]
  },
  {
   "cell_type": "code",
   "execution_count": null,
   "id": "6bc35104-1c2a-4fe9-8252-e5b4dad11728",
   "metadata": {},
   "outputs": [],
   "source": [
    "train_set = hs.signals.Signal2D(training_data[rem_indx])"
   ]
  },
  {
   "cell_type": "code",
   "execution_count": null,
   "id": "cf853d80-04e7-4778-b6c1-9a9f61b8cfcf",
   "metadata": {},
   "outputs": [],
   "source": [
    "train_set, valid_set"
   ]
  },
  {
   "cell_type": "markdown",
   "id": "f2efd511-ccc2-458e-9d9f-69ad982876d6",
   "metadata": {},
   "source": [
    "<h5>Filter and threshold the training set</h5>"
   ]
  },
  {
   "cell_type": "code",
   "execution_count": null,
   "id": "6358f357-e035-47ea-9631-749433de7f9d",
   "metadata": {},
   "outputs": [],
   "source": [
    "train_gt = train_set.deepcopy()"
   ]
  },
  {
   "cell_type": "code",
   "execution_count": null,
   "id": "1a31b81d-0c43-43e8-9d8b-933af5d2dc3e",
   "metadata": {},
   "outputs": [],
   "source": [
    "train_gt.plot()"
   ]
  },
  {
   "cell_type": "code",
   "execution_count": null,
   "id": "5bc74a7d-4e6f-457c-8048-16b462fedacb",
   "metadata": {},
   "outputs": [],
   "source": [
    "train_gt.map(gaussian_filter, sigma=1)"
   ]
  },
  {
   "cell_type": "code",
   "execution_count": null,
   "id": "857d1a37-a36b-4ccd-ab25-9a88119f360c",
   "metadata": {},
   "outputs": [],
   "source": [
    "train_gt.plot()"
   ]
  },
  {
   "cell_type": "code",
   "execution_count": null,
   "id": "b6388a1c-06eb-44de-856b-5cd8f7195a6b",
   "metadata": {},
   "outputs": [],
   "source": [
    "train_gt = train_gt > np.percentile(train_gt, 95)"
   ]
  },
  {
   "cell_type": "code",
   "execution_count": null,
   "id": "3ac04020-d8b3-4035-baea-751b110b5bc2",
   "metadata": {},
   "outputs": [],
   "source": [
    "train_gt.plot()"
   ]
  },
  {
   "cell_type": "markdown",
   "id": "bbc14277-a082-4cc1-a30b-bf781730b609",
   "metadata": {},
   "source": [
    "<h5>Create center position labels</h5>"
   ]
  },
  {
   "cell_type": "code",
   "execution_count": null,
   "id": "e97891d3-446c-4bca-b041-a53befab7ec9",
   "metadata": {},
   "outputs": [],
   "source": [
    "train_gt.map(center_of_mass)"
   ]
  },
  {
   "cell_type": "code",
   "execution_count": null,
   "id": "a0b2fee8-c51e-43be-aa4c-0235a4b85311",
   "metadata": {},
   "outputs": [],
   "source": [
    "train_gt.data"
   ]
  },
  {
   "cell_type": "markdown",
   "id": "193a7701-c1a4-4e7b-b5f7-ba3f7cb0c428",
   "metadata": {},
   "source": [
    "<h5>Inspect the training set with labels</h5>"
   ]
  },
  {
   "cell_type": "code",
   "execution_count": null,
   "id": "7d17506a-8052-4b7c-b86d-6771546a4ba9",
   "metadata": {},
   "outputs": [],
   "source": [
    "indx = np.random.choice(np.arange(train_set.data.shape[0]), size=4)\n",
    "indx"
   ]
  },
  {
   "cell_type": "code",
   "execution_count": null,
   "id": "87c87941-994d-4218-a2b3-2254b5a8b1ec",
   "metadata": {},
   "outputs": [],
   "source": [
    "nn_utility.plot_patterns(indx, train_set, train_gt)"
   ]
  },
  {
   "cell_type": "markdown",
   "id": "4389a9de-29b3-4f54-8d1b-db83f5958c86",
   "metadata": {},
   "source": [
    "<h5>Repeat for validation set</h5>"
   ]
  },
  {
   "cell_type": "code",
   "execution_count": null,
   "id": "fbb9553a-596c-4c89-b198-ecd82e1571db",
   "metadata": {},
   "outputs": [],
   "source": [
    "valid_gt = valid_set.deepcopy()\n",
    "valid_gt.map(gaussian_filter, sigma=1)\n",
    "valid_gt = valid_gt > np.percentile(valid_gt, 95)\n",
    "valid_gt.map(center_of_mass)"
   ]
  },
  {
   "cell_type": "markdown",
   "id": "d28e495b-7570-4841-970e-85f28168790b",
   "metadata": {},
   "source": [
    "<h5>Create a torch tensor dataset</h5>"
   ]
  },
  {
   "cell_type": "code",
   "execution_count": null,
   "id": "34de185f-4f33-4ef6-aa97-a63a0ab2b015",
   "metadata": {},
   "outputs": [],
   "source": [
    "data_train = nn_utility.DatasetLoader(train_set, train_gt)\n",
    "data_valid = nn_utility.DatasetLoader(valid_set, valid_gt)"
   ]
  },
  {
   "cell_type": "code",
   "execution_count": null,
   "id": "e1578c20-8434-4fe8-947a-fb2423a6727c",
   "metadata": {},
   "outputs": [],
   "source": [
    "data_train.__getitem__(0)[0].shape"
   ]
  },
  {
   "cell_type": "code",
   "execution_count": null,
   "id": "0a3fd853-6167-4592-be73-7c5a5f0961b4",
   "metadata": {},
   "outputs": [],
   "source": [
    "train_set.inav[0].data.shape"
   ]
  },
  {
   "cell_type": "markdown",
   "id": "27421201-4d5e-4bb6-b7d9-f857764c6128",
   "metadata": {},
   "source": [
    "<h5>Define batch size</h5>"
   ]
  },
  {
   "cell_type": "code",
   "execution_count": null,
   "id": "e3b1dd04-88e5-4ef3-92b2-ff05b5845634",
   "metadata": {},
   "outputs": [],
   "source": [
    "batch_size = 10"
   ]
  },
  {
   "cell_type": "markdown",
   "id": "68120fec-ef72-46f2-8084-e312bdb07021",
   "metadata": {},
   "source": [
    "<h5>Create dataloader iterable</h5>"
   ]
  },
  {
   "cell_type": "code",
   "execution_count": null,
   "id": "1a587e0a-148b-45cd-9e17-dd4d2ee73317",
   "metadata": {},
   "outputs": [],
   "source": [
    "data_train_iter = torch.utils.data.DataLoader(data_train, batch_size=batch_size, shuffle=True)\n",
    "data_valid_iter = torch.utils.data.DataLoader(data_valid, batch_size=batch_size, shuffle=True)"
   ]
  },
  {
   "cell_type": "code",
   "execution_count": null,
   "id": "77163cb1-a3e6-4b68-b7d8-f1d0efbe68b5",
   "metadata": {
    "scrolled": true
   },
   "outputs": [],
   "source": [
    "next(iter(data_train_iter))"
   ]
  },
  {
   "cell_type": "markdown",
   "id": "eee79805-6b93-4f62-bb8e-12ca7651e0a0",
   "metadata": {},
   "source": [
    "<h2>4. Training</h2>"
   ]
  },
  {
   "cell_type": "markdown",
   "id": "12a19cfc-a7f3-4b18-8eb7-c5381393cc5e",
   "metadata": {},
   "source": [
    "<h5>Create a metric</h5>\n",
    "<p><img src=\"Figures/part4.svg\" width=\"450\"></p>"
   ]
  },
  {
   "cell_type": "code",
   "execution_count": null,
   "id": "7ab8f70d-1fe3-4e35-b71c-29002dd85111",
   "metadata": {},
   "outputs": [],
   "source": [
    "r2 = lambda pred, gt: 1 - torch.sum((gt - pred) ** 2) / torch.sum((gt - torch.mean(gt)) ** 2)"
   ]
  },
  {
   "cell_type": "markdown",
   "id": "09a1636d-ad4d-4121-95f7-865119978c74",
   "metadata": {},
   "source": [
    "<h5>Define the last hyperparameters</h5>"
   ]
  },
  {
   "cell_type": "code",
   "execution_count": null,
   "id": "1d610eb5-48bc-424a-98f7-e14054c37d2b",
   "metadata": {},
   "outputs": [],
   "source": [
    "num_epochs = 5000\n",
    "learning_rate = 1e-4"
   ]
  },
  {
   "cell_type": "markdown",
   "id": "62296317-71f1-480a-bbe4-c22e872e0616",
   "metadata": {},
   "source": [
    "<h5>Define the loss function and optimizer</h5>"
   ]
  },
  {
   "cell_type": "code",
   "execution_count": null,
   "id": "b9387ade-4e87-41a8-91df-563c05887889",
   "metadata": {},
   "outputs": [],
   "source": [
    "loss_function = torch.nn.MSELoss()\n",
    "optimizer = torch.optim.Adam(model.parameters(), lr=learning_rate, weight_decay=5e-4)"
   ]
  },
  {
   "cell_type": "markdown",
   "id": "f01a504e-d214-4cbe-81c3-d8c841cfdad1",
   "metadata": {},
   "source": [
    "<h5>Initiate training</h5>"
   ]
  },
  {
   "cell_type": "code",
   "execution_count": null,
   "id": "dd722e67-9646-4617-b2f9-19ca278e6c87",
   "metadata": {
    "scrolled": true
   },
   "outputs": [],
   "source": [
    "train_loss, valid_loss, train_met, valid_met  = nn_utility.train(model, optimizer, loss_function, r2,\n",
    "                                                                 batch_size, data_train_iter, data_valid_iter,\n",
    "                                                                 device, num_epochs, early_stop=True)"
   ]
  },
  {
   "cell_type": "markdown",
   "id": "6f86a259-b90d-44bc-9950-6f9e24435b14",
   "metadata": {},
   "source": [
    "<h5>Save the trained model</h5>"
   ]
  },
  {
   "cell_type": "code",
   "execution_count": null,
   "id": "c5f0b88f-8233-4f98-a291-b5bdbb716060",
   "metadata": {},
   "outputs": [],
   "source": [
    "torch.save({\n",
    "    'model_state_dict': model.state_dict(),\n",
    "    'training_loss': train_loss,\n",
    "    'validation_loss': valid_loss,\n",
    "    'learning_rate': learning_rate,\n",
    "           }, 'model.pth')"
   ]
  },
  {
   "cell_type": "markdown",
   "id": "bd888fe9-e6b5-437e-8e86-fee4636b9251",
   "metadata": {},
   "source": [
    "<h5>Inspect the loss during training</h5>"
   ]
  },
  {
   "cell_type": "code",
   "execution_count": null,
   "id": "d4600080-7866-4af1-ad16-fc391aa94d45",
   "metadata": {},
   "outputs": [],
   "source": [
    "nn_utility.plot_graphs(train_loss, valid_loss, ylim=(0, .2))"
   ]
  },
  {
   "cell_type": "code",
   "execution_count": null,
   "id": "8a3aa248-1906-4139-a7c4-8d4c62fc2e74",
   "metadata": {},
   "outputs": [],
   "source": [
    "nn_utility.plot_graphs(train_met, valid_met, ylim=(.98, 1))"
   ]
  },
  {
   "cell_type": "code",
   "execution_count": null,
   "id": "3788b049-7e30-460a-ab9f-c9ad641d5e22",
   "metadata": {},
   "outputs": [],
   "source": [
    "valid_met[-1]"
   ]
  },
  {
   "cell_type": "markdown",
   "id": "dbb95fd0-f2b6-4ab8-8ac9-67d4c3def64c",
   "metadata": {},
   "source": [
    "<h2>5. Inference</h2>"
   ]
  },
  {
   "cell_type": "markdown",
   "id": "52be5b79-c7e7-47a0-b6b7-1fa8c15f0fdf",
   "metadata": {},
   "source": [
    "<h3>Inference on the validation dataset</h3>"
   ]
  },
  {
   "cell_type": "code",
   "execution_count": null,
   "id": "72ee5dd2-243f-4ad1-8d6a-8c694a783c0f",
   "metadata": {},
   "outputs": [],
   "source": [
    "data_test = nn_utility.DatasetLoader(valid_set)\n",
    "data_test_iter = torch.utils.data.DataLoader(data_test, batch_size=batch_size)"
   ]
  },
  {
   "cell_type": "markdown",
   "id": "f69d1a65-dfa9-422b-aea4-3d0b2db4bc3e",
   "metadata": {},
   "source": [
    "<h5>Create function to do predictions on batches</h5>"
   ]
  },
  {
   "cell_type": "code",
   "execution_count": null,
   "id": "50ca643a-6a3e-489e-85d6-5ceba5e184e7",
   "metadata": {},
   "outputs": [],
   "source": [
    "def predict(batch, model):\n",
    "    with torch.no_grad():\n",
    "        pred = model(batch)\n",
    "        pred = pred.cpu().numpy()\n",
    "    return pred"
   ]
  },
  {
   "cell_type": "markdown",
   "id": "54f060f6-1a71-47d0-ae73-ef8e3887d5b4",
   "metadata": {},
   "source": [
    "<h5>Loop over all batches</h5>"
   ]
  },
  {
   "cell_type": "code",
   "execution_count": null,
   "id": "e3ead038-ff35-4d2a-83de-3232fd825291",
   "metadata": {},
   "outputs": [],
   "source": [
    "predictions = list()\n",
    "for x in data_test_iter:\n",
    "    predictions.append(predict(x, model))"
   ]
  },
  {
   "cell_type": "code",
   "execution_count": null,
   "id": "dedc33ce-8af4-4ce4-a52a-6e7d4b0b69be",
   "metadata": {},
   "outputs": [],
   "source": [
    "pred = hs.signals.Signal1D(np.array(predictions).reshape(valid_set.data.shape[0], 2))"
   ]
  },
  {
   "cell_type": "markdown",
   "id": "36ba5160-14a1-4a6c-a1eb-0a243c40ca29",
   "metadata": {},
   "source": [
    "<h5>Plot and compare</h5>"
   ]
  },
  {
   "cell_type": "code",
   "execution_count": null,
   "id": "758ab668-ed31-49dd-a44e-d51a558fd8f3",
   "metadata": {},
   "outputs": [],
   "source": [
    "indx = np.random.choice(np.arange(valid_set.data.shape[0]), size=4)"
   ]
  },
  {
   "cell_type": "code",
   "execution_count": null,
   "id": "1628f54a-9fbf-41e2-9548-bfd2f87227f6",
   "metadata": {},
   "outputs": [],
   "source": [
    "nn_utility.plot_patterns(indx, valid_set, valid_gt, pred)"
   ]
  },
  {
   "cell_type": "markdown",
   "id": "90be2316-995f-454c-ab91-3e7ebc208ae5",
   "metadata": {},
   "source": [
    "<h3>Inference on a unlabelled region of the dataset</h3>"
   ]
  },
  {
   "cell_type": "markdown",
   "id": "a10dcdf2-5568-43b0-a7f5-7e82814a5643",
   "metadata": {},
   "source": [
    "<h5>Extract region of interest and make torch dataloader iterable</h5>"
   ]
  },
  {
   "cell_type": "code",
   "execution_count": null,
   "id": "21af22cf-69e6-428a-a867-314132700865",
   "metadata": {},
   "outputs": [],
   "source": [
    "s.plot()"
   ]
  },
  {
   "cell_type": "code",
   "execution_count": null,
   "id": "8790b051-e67c-4c74-a656-f20e28490312",
   "metadata": {},
   "outputs": [],
   "source": [
    "s_test = s.inav[110:160, 10:150]"
   ]
  },
  {
   "cell_type": "code",
   "execution_count": null,
   "id": "ffe85076-3e6e-4018-956b-47bcbe01a934",
   "metadata": {},
   "outputs": [],
   "source": [
    "# s_test.compute()"
   ]
  },
  {
   "cell_type": "code",
   "execution_count": null,
   "id": "fb4b6b3f-fb3f-4750-b65c-55c318bef084",
   "metadata": {},
   "outputs": [],
   "source": [
    "s_test"
   ]
  },
  {
   "cell_type": "code",
   "execution_count": null,
   "id": "d8032a3c-2040-44a9-861f-4ea48fbef30e",
   "metadata": {},
   "outputs": [],
   "source": [
    "s_test.plot()"
   ]
  },
  {
   "cell_type": "code",
   "execution_count": null,
   "id": "87d0dd6d-c5bf-4410-ae82-d30de03e66c2",
   "metadata": {},
   "outputs": [],
   "source": [
    "s_test = hs.signals.Signal2D(s_test.data.reshape(s_test.data.shape[0] * s_test.data.shape[1],\n",
    "                                                 s_test.data.shape[2], s_test.data.shape[3]))"
   ]
  },
  {
   "cell_type": "code",
   "execution_count": null,
   "id": "999c564e-f315-4fd1-ab11-38288c274243",
   "metadata": {},
   "outputs": [],
   "source": [
    "infer_set = nn_utility.DatasetLoader(s_test)\n",
    "infer_data_iter = torch.utils.data.DataLoader(infer_set, batch_size=batch_size, shuffle=False)"
   ]
  },
  {
   "cell_type": "markdown",
   "id": "3aaaf299-c19c-4ccd-a1c7-29bcef8e19fd",
   "metadata": {},
   "source": [
    "<h5>Load the saved model weights</h5>"
   ]
  },
  {
   "cell_type": "code",
   "execution_count": null,
   "id": "ba5d8793-edd2-4a16-8699-d08c8883c57d",
   "metadata": {},
   "outputs": [],
   "source": [
    "checkpoint = torch.load('model.pth')"
   ]
  },
  {
   "cell_type": "code",
   "execution_count": null,
   "id": "eea4f213-6ec7-4642-b1a0-f2d2bad02e6b",
   "metadata": {
    "scrolled": true
   },
   "outputs": [],
   "source": [
    "checkpoint"
   ]
  },
  {
   "cell_type": "code",
   "execution_count": null,
   "id": "fe201668-fbaa-44fe-bb25-7d8cdab917cd",
   "metadata": {},
   "outputs": [],
   "source": [
    "model = Network()"
   ]
  },
  {
   "cell_type": "code",
   "execution_count": null,
   "id": "c1b3dc9e-313e-41b0-93c6-b6ca8bd7d3d2",
   "metadata": {
    "scrolled": true
   },
   "outputs": [],
   "source": [
    "model.state_dict()"
   ]
  },
  {
   "cell_type": "code",
   "execution_count": null,
   "id": "aaddfff7-eb0c-47da-b31d-60fadc4e1719",
   "metadata": {},
   "outputs": [],
   "source": [
    "model.load_state_dict(checkpoint['model_state_dict'])"
   ]
  },
  {
   "cell_type": "code",
   "execution_count": null,
   "id": "2f035a42-0e74-47d7-a1b0-658975b9944c",
   "metadata": {},
   "outputs": [],
   "source": [
    "model.state_dict()"
   ]
  },
  {
   "cell_type": "markdown",
   "id": "c4c5780e-6ad8-4cf4-9649-ae34e6c38774",
   "metadata": {},
   "source": [
    "<h5>Set model to inference mode</h5>"
   ]
  },
  {
   "cell_type": "code",
   "execution_count": null,
   "id": "9862297f-0184-4aca-8cef-6a1df47de23f",
   "metadata": {},
   "outputs": [],
   "source": [
    "model.eval()"
   ]
  },
  {
   "cell_type": "markdown",
   "id": "9f792770-fa2b-40f8-a089-7d64237358bd",
   "metadata": {},
   "source": [
    "<h5>Perform inference</h5>"
   ]
  },
  {
   "cell_type": "code",
   "execution_count": null,
   "id": "4e72bd2a-a746-4536-8deb-ecb78658859b",
   "metadata": {},
   "outputs": [],
   "source": [
    "predictions = list()\n",
    "for x in infer_data_iter:\n",
    "    predictions.append(predict(x, model))"
   ]
  },
  {
   "cell_type": "code",
   "execution_count": null,
   "id": "0fa2a66d-f02e-45bb-81ed-7a8b698b8d2f",
   "metadata": {},
   "outputs": [],
   "source": [
    "shifts_yx = np.array(predictions).reshape((140, 50, 2))"
   ]
  },
  {
   "cell_type": "code",
   "execution_count": null,
   "id": "b8810c24-4444-478c-92d4-65c16ff303c5",
   "metadata": {},
   "outputs": [],
   "source": [
    "plt.figure()\n",
    "plt.imshow(shifts_yx[..., 0])"
   ]
  },
  {
   "cell_type": "markdown",
   "id": "31fb80e3-d09e-4040-9fc9-4b0215252530",
   "metadata": {},
   "source": [
    "<h2>6. Hidden layer outputs (optional)</h2>"
   ]
  },
  {
   "cell_type": "markdown",
   "id": "faa5827e-ff8d-4fa7-af1c-99cdc7c8525c",
   "metadata": {},
   "source": [
    "<h5>Extract a small region of the dataset</h5>"
   ]
  },
  {
   "cell_type": "code",
   "execution_count": null,
   "id": "d5ef47e2-8b82-488c-817d-01b2772be390",
   "metadata": {},
   "outputs": [],
   "source": [
    "dp = s.inav[110, 10]"
   ]
  },
  {
   "cell_type": "code",
   "execution_count": null,
   "id": "862d02c5-1a80-497d-8db2-a5f69ba817c5",
   "metadata": {},
   "outputs": [],
   "source": [
    "#dp.compute()"
   ]
  },
  {
   "cell_type": "code",
   "execution_count": null,
   "id": "9a270d57-90a9-446d-b95d-2a5f55caf28d",
   "metadata": {},
   "outputs": [],
   "source": [
    "dp.data = np.expand_dims(dp.data, axis=0)"
   ]
  },
  {
   "cell_type": "code",
   "execution_count": null,
   "id": "08c7829c-a136-41d4-bcf7-9400f03aed48",
   "metadata": {},
   "outputs": [],
   "source": [
    "dp.data.shape"
   ]
  },
  {
   "cell_type": "code",
   "execution_count": null,
   "id": "01bac766-bd00-475d-958b-01b9ed2d27ea",
   "metadata": {},
   "outputs": [],
   "source": [
    "dp_set = nn_utility.DatasetLoader(dp)\n",
    "dp_iter = torch.utils.data.DataLoader(dp_set, batch_size=1, shuffle=False)"
   ]
  },
  {
   "cell_type": "markdown",
   "id": "7f3213c7-c8e5-45d2-a949-d7cf3fb12a85",
   "metadata": {},
   "source": [
    "<h5>Redefine the model</h5>"
   ]
  },
  {
   "cell_type": "code",
   "execution_count": null,
   "id": "5673d1f8-7aa8-4e53-8f6a-1a6f6fcc6cda",
   "metadata": {},
   "outputs": [],
   "source": [
    "class Network(torch.nn.Module):\n",
    "    def __init__(self):\n",
    "        super(Network, self).__init__()\n",
    "        self.pool = torch.nn.MaxPool2d(2, 2)\n",
    "        self.conv1 = torch.nn.Conv2d(1, 16, 5)\n",
    "        self.conv2 = torch.nn.Conv2d(16, 32, 5)\n",
    "        self.fc1 = torch.nn.Linear(32*29*29, 120)\n",
    "        self.fc2 = torch.nn.Linear(120, 2)\n",
    "        \n",
    "    def forward(self, x):\n",
    "        x = self.conv1(x)\n",
    "        x = relu(x)\n",
    "        x = self.pool(x)\n",
    "        return x\n",
    "        \n",
    "        x = self.pool(relu(self.conv2(x)))\n",
    "        x = torch.flatten(x, 1)\n",
    "        x = relu(self.fc1(x))\n",
    "        x = self.fc2(x)   "
   ]
  },
  {
   "cell_type": "markdown",
   "id": "33ad428f-3835-4f72-a2d4-7947d12b5b56",
   "metadata": {},
   "source": [
    "<h5>Load model weights</h5>"
   ]
  },
  {
   "cell_type": "code",
   "execution_count": null,
   "id": "53ca78a9-7cca-4ab6-925d-f3a333fbd291",
   "metadata": {},
   "outputs": [],
   "source": [
    "model = Network()"
   ]
  },
  {
   "cell_type": "code",
   "execution_count": null,
   "id": "3929bbda-ce49-4abf-a8f2-992982c9be3d",
   "metadata": {},
   "outputs": [],
   "source": [
    "checkpoint = torch.load('model.pth')\n",
    "model.load_state_dict(checkpoint['model_state_dict'])\n",
    "model.eval()"
   ]
  },
  {
   "cell_type": "markdown",
   "id": "37428a75-c13b-41de-b225-bcacf24cb1c0",
   "metadata": {},
   "source": [
    "<h5>Perform inference</h5>"
   ]
  },
  {
   "cell_type": "code",
   "execution_count": null,
   "id": "7ff7725c-b301-4056-9ac7-185d70fb4a47",
   "metadata": {},
   "outputs": [],
   "source": [
    "with torch.no_grad():\n",
    "    pred = model(next(iter(dp_iter)))"
   ]
  },
  {
   "cell_type": "code",
   "execution_count": null,
   "id": "42091031-4deb-4098-bd56-fbcfe71301b2",
   "metadata": {
    "scrolled": true
   },
   "outputs": [],
   "source": [
    "pred = np.squeeze(pred)\n",
    "dp.data = np.squeeze(dp.data)"
   ]
  },
  {
   "cell_type": "code",
   "execution_count": null,
   "id": "fa62d79d-b758-44d2-809c-e2588fd39d4a",
   "metadata": {},
   "outputs": [],
   "source": [
    "pred.shape"
   ]
  },
  {
   "cell_type": "markdown",
   "id": "a8898e1a-ed0e-43fb-829c-fcc5ca0103e8",
   "metadata": {},
   "source": [
    "<h5>Extract feature maps and feature map weights (filters/kernels)</h5>"
   ]
  },
  {
   "cell_type": "code",
   "execution_count": null,
   "id": "afb98892-dbc6-4456-8037-305c3277cf99",
   "metadata": {},
   "outputs": [],
   "source": [
    "feature_map_indx = [0, 2, 8, 11, 14]"
   ]
  },
  {
   "cell_type": "code",
   "execution_count": null,
   "id": "3428f615-e24e-434c-972c-1405f3c15d09",
   "metadata": {},
   "outputs": [],
   "source": [
    "maps = pred[feature_map_indx]\n",
    "maps = np.squeeze(maps)"
   ]
  },
  {
   "cell_type": "code",
   "execution_count": null,
   "id": "1a5af079-b8fb-4722-8242-18a3f5849dc8",
   "metadata": {
    "scrolled": true
   },
   "outputs": [],
   "source": [
    "conv_layer_filters = model.state_dict()['conv1.weight']\n",
    "conv_layer_filters"
   ]
  },
  {
   "cell_type": "code",
   "execution_count": null,
   "id": "1a3a7308-4ee5-4972-939f-73030e24fcf0",
   "metadata": {},
   "outputs": [],
   "source": [
    "conv_layer_filters.shape"
   ]
  },
  {
   "cell_type": "code",
   "execution_count": null,
   "id": "d027302f-7f51-4b79-9349-bc4d33b217fe",
   "metadata": {},
   "outputs": [],
   "source": [
    "filters = conv_layer_filters[feature_map_indx]\n",
    "filters = torch.squeeze(filters)"
   ]
  },
  {
   "cell_type": "markdown",
   "id": "7909c7ee-9b78-439d-a509-c384b36e5e41",
   "metadata": {},
   "source": [
    "<h5>Plot the hidden layer feature maps to see how the convolutional layer extracts features for prediction</h5>"
   ]
  },
  {
   "cell_type": "code",
   "execution_count": null,
   "id": "398dfbd0-f736-4aa7-bc24-b04ea11cd63d",
   "metadata": {},
   "outputs": [],
   "source": [
    "fig, axes = plt.subplots(2, 6, figsize=(14.5, 5), constrained_layout=True)\n",
    "for i in range(len(feature_map_indx)):\n",
    "    \n",
    "    axes[0,i+1].imshow(maps[i])\n",
    "    axes[1,i+1].imshow(filters[i])\n",
    "\n",
    "    axes[0,i+1].set_title('Feature map %i'%feature_map_indx[i], fontsize=16)\n",
    "    axes[0,i+1].set_xticks([]); axes[0,i+1].set_yticks([])\n",
    "    axes[1,i+1].set_xticks([]); axes[1,i+1].set_yticks([])\n",
    "\n",
    "axes[1,1].set_ylabel('Filter', fontsize=16)\n",
    "\n",
    "axes[0,0].imshow(dp); axes[0,0].set_title('Input', fontsize=16)\n",
    "axes[0,0].set_axis_off(); axes[1,0].set_axis_off()"
   ]
  }
 ],
 "metadata": {
  "kernelspec": {
   "display_name": "Python 3 (ipykernel)",
   "language": "python",
   "name": "python3"
  },
  "language_info": {
   "codemirror_mode": {
    "name": "ipython",
    "version": 3
   },
   "file_extension": ".py",
   "mimetype": "text/x-python",
   "name": "python",
   "nbconvert_exporter": "python",
   "pygments_lexer": "ipython3",
   "version": "3.12.3"
  }
 },
 "nbformat": 4,
 "nbformat_minor": 5
}
